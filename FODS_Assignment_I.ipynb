{
  "nbformat": 4,
  "nbformat_minor": 0,
  "metadata": {
    "colab": {
      "name": "FODS_Assignment_I.ipynb",
      "provenance": []
    },
    "kernelspec": {
      "name": "python3",
      "display_name": "Python 3"
    }
  },
  "cells": [
    {
      "cell_type": "markdown",
      "metadata": {
        "id": "uiK0fGWOnXcQ"
      },
      "source": [
        "Book :- \n",
        "Author :- Mark Lutz \n",
        "1. Learning Python 5th Edition O'Reilly\n",
        "2.Python Cookbook  David Beazley O'Reilly \n",
        "\n",
        "Link:- \n",
        "1.https://pynative.com/python/basics/\n",
        "2. http://www.cs.uni.edu/~fienup/cs051f10/lectures/\n",
        "3. https://github.com/MrAlex6204/Books/blob/master/Learning%20Python%2C%205th%20Edition.pdf\n",
        "4. https://github.com/tomarraj008/data_books/blob/master/Python%20Cookbook%2C%203rd%20Edition.pdf\n",
        "\n"
      ]
    },
    {
      "cell_type": "markdown",
      "metadata": {
        "id": "g5RW89-P01bg"
      },
      "source": [
        "First Week Assignment \n",
        "\n",
        "Test Your Knowledge: Quiz \n",
        "\n",
        "1. What are the six main reasons that people choose to use Python?\n",
        "2. Name four notable companies or organizations using Python today.\n",
        "3. Why might you not want to use Python in an application?\n",
        "4. What can you do with Python?\n",
        "5. What’s the significance of the Python import this statement?\n",
        "6. Why does “spam” show up in so many Python examples in books and on the Web?\n",
        "7. What is your favorite color?\n",
        "\n",
        "\n",
        "Test Your Knowledge: Quiz\n",
        "1. What is the Python interpreter?\n",
        "2. What is source code?\n",
        "3. What is byte code?\n",
        "4. What is the PVM?\n",
        "5. Name two or more variations on Python’s standard execution model.\n",
        "6. How are CPython, Jython, and IronPython different?\n",
        "7. What are Stackless and PyPy?\n",
        "\n",
        "Test Your Knowledge: Quiz\n",
        "1. How can you start an interactive interpreter session?\n",
        "2. Where do you type a system command line to launch a script file?\n",
        "3. Name four or more ways to run the code saved in a script file.\n",
        "4. Name two pitfalls related to clicking file icons on Windows.\n",
        "5. Why might you need to reload a module?\n",
        "6. How do you run a script from within IDLE?\n",
        "7. Name two pitfalls related to using IDLE.\n",
        "8. What is a namespace, and how does it relate to module files?\n",
        "\n",
        "\n",
        "Test Your Knowledge: Quiz\n",
        "\n",
        "1. Name four of Python’s core data types.\n",
        "2. Why are they called “core” data types?\n",
        "3. What does “immutable” mean, and which three of Python’s core types are considered immutable?\n",
        "4. What does “sequence” mean, and which three types fall into that category?\n",
        "5. What does “mapping” mean, and which core type is a mapping?\n",
        "6. What is “polymorphism,” and why should you care?\n",
        "\n",
        "\n",
        "\n"
      ]
    },
    {
      "cell_type": "markdown",
      "metadata": {
        "id": "6kafgQs5S8WY"
      },
      "source": [
        "**Projects:-**<br>\n",
        "1. Open a Python shell, enter the following expressions, and observe the results:<br>\n",
        "a. 8<br>\n",
        "b. 8 * 2<br>\n",
        "c. 8 ** 2<br>\n",
        "d. 8/12<br>\n",
        "e. 8 // 12<br>\n",
        "f. 8/0"
      ]
    },
    {
      "cell_type": "code",
      "metadata": {
        "id": "M0vvPpdkTWOZ",
        "outputId": "f4e4a1ec-ae76-4e91-eb20-2a092b0d8106",
        "colab": {
          "base_uri": "https://localhost:8080/"
        }
      },
      "source": [
        "8"
      ],
      "execution_count": 1,
      "outputs": [
        {
          "output_type": "execute_result",
          "data": {
            "text/plain": [
              "8"
            ]
          },
          "metadata": {},
          "execution_count": 1
        }
      ]
    },
    {
      "cell_type": "code",
      "source": [
        "8*2"
      ],
      "metadata": {
        "id": "28v2kepQJ6iH",
        "outputId": "c30e5d01-d7ef-447d-daf2-f81f530fd79a",
        "colab": {
          "base_uri": "https://localhost:8080/"
        }
      },
      "execution_count": 2,
      "outputs": [
        {
          "output_type": "execute_result",
          "data": {
            "text/plain": [
              "16"
            ]
          },
          "metadata": {},
          "execution_count": 2
        }
      ]
    },
    {
      "cell_type": "code",
      "source": [
        "8**2"
      ],
      "metadata": {
        "id": "EVFmnLulJ8wu",
        "outputId": "3dfc0959-9032-4c10-faae-34fdddcb41c7",
        "colab": {
          "base_uri": "https://localhost:8080/"
        }
      },
      "execution_count": 3,
      "outputs": [
        {
          "output_type": "execute_result",
          "data": {
            "text/plain": [
              "64"
            ]
          },
          "metadata": {},
          "execution_count": 3
        }
      ]
    },
    {
      "cell_type": "code",
      "source": [
        "8/2"
      ],
      "metadata": {
        "id": "KMO_cfrPJ_E6",
        "outputId": "3f93e7fd-99d1-41c9-c2c8-890ee279af6a",
        "colab": {
          "base_uri": "https://localhost:8080/"
        }
      },
      "execution_count": 4,
      "outputs": [
        {
          "output_type": "execute_result",
          "data": {
            "text/plain": [
              "4.0"
            ]
          },
          "metadata": {},
          "execution_count": 4
        }
      ]
    },
    {
      "cell_type": "code",
      "source": [
        "8//2"
      ],
      "metadata": {
        "id": "gUs1hC3AKBCB",
        "outputId": "752f1897-1d04-4a2e-c8c1-3d22470e7a4d",
        "colab": {
          "base_uri": "https://localhost:8080/"
        }
      },
      "execution_count": 5,
      "outputs": [
        {
          "output_type": "execute_result",
          "data": {
            "text/plain": [
              "4"
            ]
          },
          "metadata": {},
          "execution_count": 5
        }
      ]
    },
    {
      "cell_type": "code",
      "source": [
        "8/0"
      ],
      "metadata": {
        "id": "jW0m8jL8KC3Y",
        "outputId": "3671f221-cce9-45c1-dacb-1c8a4ff3f292",
        "colab": {
          "base_uri": "https://localhost:8080/",
          "height": 166
        }
      },
      "execution_count": 6,
      "outputs": [
        {
          "output_type": "error",
          "ename": "ZeroDivisionError",
          "evalue": "ignored",
          "traceback": [
            "\u001b[0;31m---------------------------------------------------------------------------\u001b[0m",
            "\u001b[0;31mZeroDivisionError\u001b[0m                         Traceback (most recent call last)",
            "\u001b[0;32m<ipython-input-6-b75faf41dc75>\u001b[0m in \u001b[0;36m<module>\u001b[0;34m()\u001b[0m\n\u001b[0;32m----> 1\u001b[0;31m \u001b[0;36m8\u001b[0m\u001b[0;34m/\u001b[0m\u001b[0;36m0\u001b[0m\u001b[0;34m\u001b[0m\u001b[0;34m\u001b[0m\u001b[0m\n\u001b[0m",
            "\u001b[0;31mZeroDivisionError\u001b[0m: division by zero"
          ]
        }
      ]
    },
    {
      "cell_type": "markdown",
      "metadata": {
        "id": "ySRylLzXTg4L"
      },
      "source": [
        "2. Write a Python program that prints (displays) your name, address, and telephone number"
      ]
    },
    {
      "cell_type": "code",
      "metadata": {
        "id": "IC-e8BmAUMex",
        "outputId": "8411f916-6768-4fa6-decb-479dbbd78947",
        "colab": {
          "base_uri": "https://localhost:8080/"
        }
      },
      "source": [
        "name=\"Niskarsh Ghimire\"\n",
        "address=\"zzzz, Kathmandu\"\n",
        "Tel_no=\"014XXXXX\"\n",
        "print(name)\n",
        "print(address)\n",
        "print(Tel_no)"
      ],
      "execution_count": 8,
      "outputs": [
        {
          "output_type": "stream",
          "name": "stdout",
          "text": [
            "Niskarsh Ghimire\n",
            "zzzz, Kathmandu\n",
            "014XXXXX\n"
          ]
        }
      ]
    },
    {
      "cell_type": "markdown",
      "metadata": {
        "id": "H-t99QCLUNap"
      },
      "source": [
        "3. Evaluate the following code at a shell prompt: print(\"Your name is\", name). Then assign name an appropriate value, and evaluate the statement again."
      ]
    },
    {
      "cell_type": "code",
      "metadata": {
        "id": "dXcXgJUSUhwR",
        "outputId": "a9969533-7303-4bf0-f0fd-8abc1b30716b",
        "colab": {
          "base_uri": "https://localhost:8080/"
        }
      },
      "source": [
        "name=\"Slim Shady\"\n",
        "print(\"Your name is\", name)"
      ],
      "execution_count": 9,
      "outputs": [
        {
          "output_type": "stream",
          "name": "stdout",
          "text": [
            "Your name is Slim Shady\n"
          ]
        }
      ]
    },
    {
      "cell_type": "markdown",
      "metadata": {
        "id": "qjgWML-AUi-v"
      },
      "source": [
        "4. Write and test a program that accepts the user's name(as text) and age(as a number) as input. The program should output a sentense containing the user's name and age."
      ]
    },
    {
      "cell_type": "code",
      "metadata": {
        "id": "a3yt3ND1WkF0",
        "outputId": "6acfa061-a864-4620-c5cb-947bd699f231",
        "colab": {
          "base_uri": "https://localhost:8080/"
        }
      },
      "source": [
        "name =input(\"Enter your name: \")\n",
        "age =int(input(\"Enter your age: \"))\n",
        "print(name,\"is\",age,\"years old.\")"
      ],
      "execution_count": 11,
      "outputs": [
        {
          "output_type": "stream",
          "name": "stdout",
          "text": [
            "Enter your name: Niskarsh\n",
            "Enter your age: 18\n",
            "Niskarsh is 18 years old.\n"
          ]
        }
      ]
    },
    {
      "cell_type": "markdown",
      "metadata": {
        "id": "Fw-qO1W9WlGW"
      },
      "source": [
        "5. Write and test a program that computes the area of a circle. This program should request a number representing  a radius as input from the user. It should use the formula 3.14*radius**2 to compute the area and then output this result suitably labeled."
      ]
    },
    {
      "cell_type": "code",
      "metadata": {
        "id": "PwqzW8U-W8fB",
        "outputId": "e85c1174-d7f0-4df4-f8e6-7fc65b5b4ff2",
        "colab": {
          "base_uri": "https://localhost:8080/"
        }
      },
      "source": [
        "pi = 3.14\n",
        "r = float(input (\"the radius of the circle : \"))\n",
        "area = pi*r**2\n",
        "print(\"The area of the circle= \" ,area)"
      ],
      "execution_count": 13,
      "outputs": [
        {
          "output_type": "stream",
          "name": "stdout",
          "text": [
            "the radius of the circle : 4\n",
            "The area of the circle=  50.24\n"
          ]
        }
      ]
    },
    {
      "cell_type": "markdown",
      "metadata": {
        "id": "roHMT8eHXDFg"
      },
      "source": [
        "6. Enter an input statement using the input function at the shll prompt. When the prompt asks you for input, enter a number. Then, attempt to add 1 to that number, observe the results and explain what happened."
      ]
    },
    {
      "cell_type": "code",
      "metadata": {
        "id": "Y9danKsrXXLJ",
        "outputId": "c8eca555-c79a-45dd-c191-731f1ab16d05",
        "colab": {
          "base_uri": "https://localhost:8080/"
        }
      },
      "source": [
        "a = int(input(\"Ener a number: \"))\n",
        "a+=1\n",
        "print(a)"
      ],
      "execution_count": 18,
      "outputs": [
        {
          "output_type": "stream",
          "name": "stdout",
          "text": [
            "Ener a number: 7\n",
            "8\n"
          ]
        }
      ]
    },
    {
      "cell_type": "markdown",
      "metadata": {
        "id": "-ud9b4rIXdyO"
      },
      "source": [
        "7. Enter the expression help() at the shell prompt. Follow the instructions to browse the topics and modules."
      ]
    },
    {
      "cell_type": "code",
      "metadata": {
        "id": "Q6DP_R5hXmmS",
        "outputId": "7571bf45-907d-4d95-d48a-799506ce6b5b",
        "colab": {
          "base_uri": "https://localhost:8080/"
        }
      },
      "source": [
        "help()"
      ],
      "execution_count": 19,
      "outputs": [
        {
          "output_type": "stream",
          "name": "stdout",
          "text": [
            "\n",
            "Welcome to Python 3.7's help utility!\n",
            "\n",
            "If this is your first time using Python, you should definitely check out\n",
            "the tutorial on the Internet at https://docs.python.org/3.7/tutorial/.\n",
            "\n",
            "Enter the name of any module, keyword, or topic to get help on writing\n",
            "Python programs and using Python modules.  To quit this help utility and\n",
            "return to the interpreter, just type \"quit\".\n",
            "\n",
            "To get a list of available modules, keywords, symbols, or topics, type\n",
            "\"modules\", \"keywords\", \"symbols\", or \"topics\".  Each module also comes\n",
            "with a one-line summary of what it does; to list the modules whose name\n",
            "or summary contain a given string such as \"spam\", type \"modules spam\".\n",
            "\n",
            "help> int\n",
            "Help on class int in module builtins:\n",
            "\n",
            "class int(object)\n",
            " |  int([x]) -> integer\n",
            " |  int(x, base=10) -> integer\n",
            " |  \n",
            " |  Convert a number or string to an integer, or return 0 if no arguments\n",
            " |  are given.  If x is a number, return x.__int__().  For floating point\n",
            " |  numbers, this truncates towards zero.\n",
            " |  \n",
            " |  If x is not a number or if base is given, then x must be a string,\n",
            " |  bytes, or bytearray instance representing an integer literal in the\n",
            " |  given base.  The literal can be preceded by '+' or '-' and be surrounded\n",
            " |  by whitespace.  The base defaults to 10.  Valid bases are 0 and 2-36.\n",
            " |  Base 0 means to interpret the base from the string as an integer literal.\n",
            " |  >>> int('0b100', base=0)\n",
            " |  4\n",
            " |  \n",
            " |  Methods defined here:\n",
            " |  \n",
            " |  __abs__(self, /)\n",
            " |      abs(self)\n",
            " |  \n",
            " |  __add__(self, value, /)\n",
            " |      Return self+value.\n",
            " |  \n",
            " |  __and__(self, value, /)\n",
            " |      Return self&value.\n",
            " |  \n",
            " |  __bool__(self, /)\n",
            " |      self != 0\n",
            " |  \n",
            " |  __ceil__(...)\n",
            " |      Ceiling of an Integral returns itself.\n",
            " |  \n",
            " |  __divmod__(self, value, /)\n",
            " |      Return divmod(self, value).\n",
            " |  \n",
            " |  __eq__(self, value, /)\n",
            " |      Return self==value.\n",
            " |  \n",
            " |  __float__(self, /)\n",
            " |      float(self)\n",
            " |  \n",
            " |  __floor__(...)\n",
            " |      Flooring an Integral returns itself.\n",
            " |  \n",
            " |  __floordiv__(self, value, /)\n",
            " |      Return self//value.\n",
            " |  \n",
            " |  __format__(self, format_spec, /)\n",
            " |      Default object formatter.\n",
            " |  \n",
            " |  __ge__(self, value, /)\n",
            " |      Return self>=value.\n",
            " |  \n",
            " |  __getattribute__(self, name, /)\n",
            " |      Return getattr(self, name).\n",
            " |  \n",
            " |  __getnewargs__(self, /)\n",
            " |  \n",
            " |  __gt__(self, value, /)\n",
            " |      Return self>value.\n",
            " |  \n",
            " |  __hash__(self, /)\n",
            " |      Return hash(self).\n",
            " |  \n",
            " |  __index__(self, /)\n",
            " |      Return self converted to an integer, if self is suitable for use as an index into a list.\n",
            " |  \n",
            " |  __int__(self, /)\n",
            " |      int(self)\n",
            " |  \n",
            " |  __invert__(self, /)\n",
            " |      ~self\n",
            " |  \n",
            " |  __le__(self, value, /)\n",
            " |      Return self<=value.\n",
            " |  \n",
            " |  __lshift__(self, value, /)\n",
            " |      Return self<<value.\n",
            " |  \n",
            " |  __lt__(self, value, /)\n",
            " |      Return self<value.\n",
            " |  \n",
            " |  __mod__(self, value, /)\n",
            " |      Return self%value.\n",
            " |  \n",
            " |  __mul__(self, value, /)\n",
            " |      Return self*value.\n",
            " |  \n",
            " |  __ne__(self, value, /)\n",
            " |      Return self!=value.\n",
            " |  \n",
            " |  __neg__(self, /)\n",
            " |      -self\n",
            " |  \n",
            " |  __or__(self, value, /)\n",
            " |      Return self|value.\n",
            " |  \n",
            " |  __pos__(self, /)\n",
            " |      +self\n",
            " |  \n",
            " |  __pow__(self, value, mod=None, /)\n",
            " |      Return pow(self, value, mod).\n",
            " |  \n",
            " |  __radd__(self, value, /)\n",
            " |      Return value+self.\n",
            " |  \n",
            " |  __rand__(self, value, /)\n",
            " |      Return value&self.\n",
            " |  \n",
            " |  __rdivmod__(self, value, /)\n",
            " |      Return divmod(value, self).\n",
            " |  \n",
            " |  __repr__(self, /)\n",
            " |      Return repr(self).\n",
            " |  \n",
            " |  __rfloordiv__(self, value, /)\n",
            " |      Return value//self.\n",
            " |  \n",
            " |  __rlshift__(self, value, /)\n",
            " |      Return value<<self.\n",
            " |  \n",
            " |  __rmod__(self, value, /)\n",
            " |      Return value%self.\n",
            " |  \n",
            " |  __rmul__(self, value, /)\n",
            " |      Return value*self.\n",
            " |  \n",
            " |  __ror__(self, value, /)\n",
            " |      Return value|self.\n",
            " |  \n",
            " |  __round__(...)\n",
            " |      Rounding an Integral returns itself.\n",
            " |      Rounding with an ndigits argument also returns an integer.\n",
            " |  \n",
            " |  __rpow__(self, value, mod=None, /)\n",
            " |      Return pow(value, self, mod).\n",
            " |  \n",
            " |  __rrshift__(self, value, /)\n",
            " |      Return value>>self.\n",
            " |  \n",
            " |  __rshift__(self, value, /)\n",
            " |      Return self>>value.\n",
            " |  \n",
            " |  __rsub__(self, value, /)\n",
            " |      Return value-self.\n",
            " |  \n",
            " |  __rtruediv__(self, value, /)\n",
            " |      Return value/self.\n",
            " |  \n",
            " |  __rxor__(self, value, /)\n",
            " |      Return value^self.\n",
            " |  \n",
            " |  __sizeof__(self, /)\n",
            " |      Returns size in memory, in bytes.\n",
            " |  \n",
            " |  __str__(self, /)\n",
            " |      Return str(self).\n",
            " |  \n",
            " |  __sub__(self, value, /)\n",
            " |      Return self-value.\n",
            " |  \n",
            " |  __truediv__(self, value, /)\n",
            " |      Return self/value.\n",
            " |  \n",
            " |  __trunc__(...)\n",
            " |      Truncating an Integral returns itself.\n",
            " |  \n",
            " |  __xor__(self, value, /)\n",
            " |      Return self^value.\n",
            " |  \n",
            " |  bit_length(self, /)\n",
            " |      Number of bits necessary to represent self in binary.\n",
            " |      \n",
            " |      >>> bin(37)\n",
            " |      '0b100101'\n",
            " |      >>> (37).bit_length()\n",
            " |      6\n",
            " |  \n",
            " |  conjugate(...)\n",
            " |      Returns self, the complex conjugate of any int.\n",
            " |  \n",
            " |  to_bytes(self, /, length, byteorder, *, signed=False)\n",
            " |      Return an array of bytes representing an integer.\n",
            " |      \n",
            " |      length\n",
            " |        Length of bytes object to use.  An OverflowError is raised if the\n",
            " |        integer is not representable with the given number of bytes.\n",
            " |      byteorder\n",
            " |        The byte order used to represent the integer.  If byteorder is 'big',\n",
            " |        the most significant byte is at the beginning of the byte array.  If\n",
            " |        byteorder is 'little', the most significant byte is at the end of the\n",
            " |        byte array.  To request the native byte order of the host system, use\n",
            " |        `sys.byteorder' as the byte order value.\n",
            " |      signed\n",
            " |        Determines whether two's complement is used to represent the integer.\n",
            " |        If signed is False and a negative integer is given, an OverflowError\n",
            " |        is raised.\n",
            " |  \n",
            " |  ----------------------------------------------------------------------\n",
            " |  Class methods defined here:\n",
            " |  \n",
            " |  from_bytes(bytes, byteorder, *, signed=False) from builtins.type\n",
            " |      Return the integer represented by the given array of bytes.\n",
            " |      \n",
            " |      bytes\n",
            " |        Holds the array of bytes to convert.  The argument must either\n",
            " |        support the buffer protocol or be an iterable object producing bytes.\n",
            " |        Bytes and bytearray are examples of built-in objects that support the\n",
            " |        buffer protocol.\n",
            " |      byteorder\n",
            " |        The byte order used to represent the integer.  If byteorder is 'big',\n",
            " |        the most significant byte is at the beginning of the byte array.  If\n",
            " |        byteorder is 'little', the most significant byte is at the end of the\n",
            " |        byte array.  To request the native byte order of the host system, use\n",
            " |        `sys.byteorder' as the byte order value.\n",
            " |      signed\n",
            " |        Indicates whether two's complement is used to represent the integer.\n",
            " |  \n",
            " |  ----------------------------------------------------------------------\n",
            " |  Static methods defined here:\n",
            " |  \n",
            " |  __new__(*args, **kwargs) from builtins.type\n",
            " |      Create and return a new object.  See help(type) for accurate signature.\n",
            " |  \n",
            " |  ----------------------------------------------------------------------\n",
            " |  Data descriptors defined here:\n",
            " |  \n",
            " |  denominator\n",
            " |      the denominator of a rational number in lowest terms\n",
            " |  \n",
            " |  imag\n",
            " |      the imaginary part of a complex number\n",
            " |  \n",
            " |  numerator\n",
            " |      the numerator of a rational number in lowest terms\n",
            " |  \n",
            " |  real\n",
            " |      the real part of a complex number\n",
            "\n",
            "help> quit\n",
            "\n",
            "You are now leaving help and returning to the Python interpreter.\n",
            "If you want to ask for help on a particular object directly from the\n",
            "interpreter, you can type \"help(object)\".  Executing \"help('string')\"\n",
            "has the same effect as typing a particular string at the help> prompt.\n"
          ]
        }
      ]
    },
    {
      "cell_type": "markdown",
      "metadata": {
        "id": "Mh0jLr5HYCzo"
      },
      "source": [
        "8. The tax calculator program of the case study outputs a floating-point number that might show more than two digits of precision. Use the round function to modify the program to display at most two digits of precision in the output number."
      ]
    },
    {
      "cell_type": "code",
      "metadata": {
        "id": "6JN4PaojYEK4",
        "outputId": "e8143f1e-9d40-480c-ef3d-6effa5b8c478",
        "colab": {
          "base_uri": "https://localhost:8080/"
        }
      },
      "source": [
        "Tax = float(input(\"Enter the tax to round: \"))\n",
        "print(\"The income tax is Rs.\" + str(round(Tax,2)))"
      ],
      "execution_count": 20,
      "outputs": [
        {
          "output_type": "stream",
          "name": "stdout",
          "text": [
            "Enter the tax to round: 1236.45\n",
            "The income tax is Rs.1236.45\n"
          ]
        }
      ]
    },
    {
      "cell_type": "markdown",
      "metadata": {
        "id": "SeHW1j9kYF8Q"
      },
      "source": [
        "9. You can calculate the surface area of a cube if you know the length of an edge. Write a program that takes the length of an edge(an integer) as input and prints the cube's surface area as output."
      ]
    },
    {
      "cell_type": "code",
      "metadata": {
        "id": "otcAXgxxYkx6",
        "outputId": "ba6d094e-5b09-454b-b32b-0299a2cdac40",
        "colab": {
          "base_uri": "https://localhost:8080/"
        }
      },
      "source": [
        "a = int(input(\"Enter the length of an edge: \"))\n",
        "sa = 6*(a**2)\n",
        "print(\"The surface area of the cube is\",sa)"
      ],
      "execution_count": 21,
      "outputs": [
        {
          "output_type": "stream",
          "name": "stdout",
          "text": [
            "Enter the length of an edge: 6\n",
            "The surface area of the cube is 216\n"
          ]
        }
      ]
    },
    {
      "cell_type": "markdown",
      "metadata": {
        "id": "O3379lCKYlcr"
      },
      "source": [
        "10.Five Star Retro Video rents VHS tapes and DVDs to the same connoisseurs who like to buy LP record albums. The store rents new videos for $3.00 a night, and oldies for $2.00 a night.\n",
        "\n",
        "Write a program that the clerks at Five Star Retro Video can use to calculate the total charge for a customer’s video rentals.\n",
        "\n",
        "The program should prompt the user for the number of each type of video and output the total cost."
      ]
    },
    {
      "cell_type": "code",
      "metadata": {
        "id": "kKoIAmUpY4dY",
        "outputId": "2f853dd2-fff4-4631-a2a5-5e15ef059705",
        "colab": {
          "base_uri": "https://localhost:8080/"
        }
      },
      "source": [
        "Old = int(input(\"Enter the amount of old VHS and DVDs rented: \"))\n",
        "New = int(input(\"Enter the amount of new VHS and DVDs rented: \"))\n",
        "cost = (Old*2)+(New*3)\n",
        "print(\"The total cost for this customer is\", cost)"
      ],
      "execution_count": 23,
      "outputs": [
        {
          "output_type": "stream",
          "name": "stdout",
          "text": [
            "Enter the amount of old VHS and DVDs rented: 6\n",
            "Enter the amount of new VHS and DVDs rented: 8\n",
            "The total cost for this customer is 36\n"
          ]
        }
      ]
    },
    {
      "cell_type": "markdown",
      "metadata": {
        "id": "oBQWzZuoY9dH"
      },
      "source": [
        "11. Write a program that takes the radius of a sphere(a floating point number) as input and then outputs the sphere's diameter, circumference, surface area and volume."
      ]
    },
    {
      "cell_type": "code",
      "metadata": {
        "id": "MNAlLLYrbatP",
        "outputId": "494fea8e-a9a5-41aa-c1f8-c1c411f53843",
        "colab": {
          "base_uri": "https://localhost:8080/"
        }
      },
      "source": [
        "r= float(input(\"Enter the radius of sphere: \"))\n",
        "d= 2*r\n",
        "c= 2*3.14*(r**2)\n",
        "sa= 4*3.14*(r**2)\n",
        "v= 4/3*(3.14)*(r**3)\n",
        "print(\"The diameter of the sphere is\",d)\n",
        "print(\"The circumference of the sphere is\",c)\n",
        "print(\"The surface area of the sphere is\",sa)\n",
        "print(\"The volume of the sphere is\",v)"
      ],
      "execution_count": 24,
      "outputs": [
        {
          "output_type": "stream",
          "name": "stdout",
          "text": [
            "Enter the radius of sphere: 2\n",
            "The diameter of the sphere is 4.0\n",
            "The circumference of the sphere is 25.12\n",
            "The surface area of the sphere is 50.24\n",
            "The volume of the sphere is 33.49333333333333\n"
          ]
        }
      ]
    },
    {
      "cell_type": "markdown",
      "metadata": {
        "id": "zOx3W9G8bb_2"
      },
      "source": [
        "12. Instructions An object's momentum is its mass multiplied by its velocity. Write a program that accepts an object's mass (in kilograms) and velocity (in meters per second) as inputs, and then outputs its momentum."
      ]
    },
    {
      "cell_type": "code",
      "metadata": {
        "id": "hlYAuUajdI0X",
        "outputId": "6e982efb-ff0f-4616-d724-5ab77eeabbe9",
        "colab": {
          "base_uri": "https://localhost:8080/"
        }
      },
      "source": [
        "mass = int(input(\"Enter the mass of an object: \"))\n",
        "velocity = int(input(\"Enter the velocity of object in m/s: \"))\n",
        "momentum = mass*velocity\n",
        "print(\"The momentium of the object is \",momentum)"
      ],
      "execution_count": 25,
      "outputs": [
        {
          "output_type": "stream",
          "name": "stdout",
          "text": [
            "Enter the mass of an object: 420\n",
            "Enter the velocity of object in m/s: 8\n",
            "The momentium of the object is  3360\n"
          ]
        }
      ]
    },
    {
      "cell_type": "markdown",
      "metadata": {
        "id": "jU4yPCcrdf0D"
      },
      "source": [
        "13. The kinetic energy of a moving object is given by the formula KE = ½mv2 where m is the object’s mass and v is its velocity.\n",
        "\n",
        "Modify the program you created in Project 5 so that it prints the object’s kinetic energy as well as its momentum."
      ]
    },
    {
      "cell_type": "code",
      "metadata": {
        "id": "ocVu-KGkd9lN",
        "outputId": "5be6804c-c370-4b5a-c267-1a50b3a1ad1d",
        "colab": {
          "base_uri": "https://localhost:8080/"
        }
      },
      "source": [
        "mass=int(input(\"Enter the mass of an object: \"))\n",
        "velocity=int(input(\"Enter the velocity of object in m/s: \"))\n",
        "momentum= mass*velocity\n",
        "k_e = 1/2*mass*(velocity**2)\n",
        "print(\"The momentium of the object is\", momentum)\n",
        "print(\"The kinetic energy of the object is\", k_e)"
      ],
      "execution_count": 26,
      "outputs": [
        {
          "output_type": "stream",
          "name": "stdout",
          "text": [
            "Enter the mass of an object: 20\n",
            "Enter the velocity of object in m/s: 5\n",
            "The momentium of the object is 100\n",
            "The kinetic energy of the object is 250.0\n"
          ]
        }
      ]
    },
    {
      "cell_type": "markdown",
      "metadata": {
        "id": "KGUdbd0Od-TE"
      },
      "source": [
        "14. An employee’s total weekly pay equals the hourly wage multiplied by the total number of regular hours plus any overtime pay. Overtime pay equals the total overtime hours multiplied by 1.5 times the hourly wage. Write a program that takes as inputs the hourly wage, total regular hours, and total overtime hours and displays an employee’s total weekly pay."
      ]
    },
    {
      "cell_type": "code",
      "metadata": {
        "id": "d4lYL0jFekM1",
        "outputId": "bbea7090-d91e-42de-9973-3ca381376779",
        "colab": {
          "base_uri": "https://localhost:8080/"
        }
      },
      "source": [
        "hour= float(input(\"Enter the working hours: \"))\n",
        "h_w= 15\n",
        "ovh=float(input(\"Enter the overtime working hours: \"))\n",
        "wage= (hour*h_w)+ovh*(h_w*1.5)\n",
        "print(\"The total weekly wage is\", wage)"
      ],
      "execution_count": 30,
      "outputs": [
        {
          "output_type": "stream",
          "name": "stdout",
          "text": [
            "Enter the working hours: 28\n",
            "Enter the overtime working hours: 4\n",
            "The total weekly wage is 510.0\n"
          ]
        }
      ]
    },
    {
      "cell_type": "markdown",
      "metadata": {
        "id": "6KBqGepcfGWI"
      },
      "source": [
        ""
      ]
    }
  ]
}