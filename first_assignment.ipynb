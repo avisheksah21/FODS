{
  "cells": [
    {
      "cell_type": "markdown",
      "metadata": {
        "id": "uiK0fGWOnXcQ"
      },
      "source": [
        "Book :- \n",
        "Author :- Mark Lutz \n",
        "1. Learning Python 5th Edition O'Reilly\n",
        "2.Python Cookbook  David Beazley O'Reilly \n",
        "\n",
        "Link:- \n",
        "1.https://pynative.com/python/basics/\n",
        "2. http://www.cs.uni.edu/~fienup/cs051f10/lectures/\n",
        "3. https://github.com/MrAlex6204/Books/blob/master/Learning%20Python%2C%205th%20Edition.pdf\n",
        "4. https://github.com/tomarraj008/data_books/blob/master/Python%20Cookbook%2C%203rd%20Edition.pdf\n",
        "\n"
      ]
    },
    {
      "cell_type": "markdown",
      "metadata": {
        "id": "g5RW89-P01bg"
      },
      "source": [
        "First Week Assignment \n",
        "\n",
        "Test Your Knowledge: Quiz \n",
        "\n",
        "1. What are the six main reasons that people choose to use Python?\n",
        "2. Name four notable companies or organizations using Python today.\n",
        "3. Why might you not want to use Python in an application?\n",
        "4. What can you do with Python?\n",
        "5. What’s the significance of the Python import this statement?\n",
        "6. Why does “spam” show up in so many Python examples in books and on the Web?\n",
        "7. What is your favorite color?\n",
        "\n",
        "\n",
        "Test Your Knowledge: Quiz\n",
        "1. What is the Python interpreter?\n",
        "2. What is source code?\n",
        "3. What is byte code?\n",
        "4. What is the PVM?\n",
        "5. Name two or more variations on Python’s standard execution model.\n",
        "6. How are CPython, Jython, and IronPython different?\n",
        "7. What are Stackless and PyPy?\n",
        "\n",
        "Test Your Knowledge: Quiz\n",
        "1. How can you start an interactive interpreter session?\n",
        "2. Where do you type a system command line to launch a script file?\n",
        "3. Name four or more ways to run the code saved in a script file.\n",
        "4. Name two pitfalls related to clicking file icons on Windows.\n",
        "5. Why might you need to reload a module?\n",
        "6. How do you run a script from within IDLE?\n",
        "7. Name two pitfalls related to using IDLE.\n",
        "8. What is a namespace, and how does it relate to module files?\n",
        "\n",
        "\n",
        "Test Your Knowledge: Quiz\n",
        "\n",
        "1. Name four of Python’s core data types.\n",
        "2. Why are they called “core” data types?\n",
        "3. What does “immutable” mean, and which three of Python’s core types are considered immutable?\n",
        "4. What does “sequence” mean, and which three types fall into that category?\n",
        "5. What does “mapping” mean, and which core type is a mapping?\n",
        "6. What is “polymorphism,” and why should you care?\n",
        "\n",
        "\n",
        "\n"
      ]
    },
    {
      "cell_type": "markdown",
      "source": [
        "People choosed python for the following reasons:\n",
        "    \n",
        "    1.Simple Syntax and Easy Maintainence\n",
        "    2.Supports multiple programming paradigms such as Object Oriented Programming\n",
        "    3.Compatible With majot Platforms\n",
        "    4.Adapts Test Driven Development \n",
        "    5.Wide Range of Open Source Framwork\n",
        "    6.Simplifies Complex Software Development"
      ],
      "metadata": {
        "id": "qmw_DDzFAcOV"
      }
    },
    {
      "cell_type": "markdown",
      "source": [
        "\n",
        "Some notable companies that uses Python today are:\n",
        "\n",
        "1.NASA-For Large Scale Space Data Processing\n",
        "\n",
        "2.Google:For Data science Projects\n",
        "\n",
        "3.Facebook :For Data Handling\n",
        "\n",
        "4.Tesla:-Self Driving Cars "
      ],
      "metadata": {
        "id": "bK3YDFccA8if"
      }
    },
    {
      "cell_type": "markdown",
      "source": [
        "I might not use python for Programming IOT Devices as it comsumes a lot of memory in comparison to C and C++."
      ],
      "metadata": {
        "id": "QLRz_dv-BEBg"
      }
    },
    {
      "cell_type": "markdown",
      "source": [
        "Python Import statement sigifies to access the code from other python file or scripts in the program ."
      ],
      "metadata": {
        "id": "ueBo6DQjBYZm"
      }
    },
    {
      "cell_type": "markdown",
      "source": [
        "I can do various tasks with python such as:\n",
        "  1.Data Science and Machine Learning.(using Skitlearn,Pandas,Tensordlow etc)\n",
        "  2.Web Development and Web Scraping.(using Django,Flask and BeautifulSoup)\n",
        "  3.Game Development.(Panda 3d)\n",
        "  4.Software Development.\n",
        "  5.Cybersecurity and Penetration testing."
      ],
      "metadata": {
        "id": "3qOHCicLBy4t"
      }
    },
    {
      "cell_type": "markdown",
      "source": [
        " Spam” is a reference from a famous Monty Python skit in which people trying to order food in a cafeteria are drowned out by a chorus of Vikings singing about spam. Oh, and it’s also a common variable name in Python scripts"
      ],
      "metadata": {
        "id": "-aoTiOhfBvwu"
      }
    },
    {
      "cell_type": "markdown",
      "source": [
        "My Favorite Color is DodgerBlue."
      ],
      "metadata": {
        "id": "sao0NaZiCoyw"
      }
    },
    {
      "cell_type": "markdown",
      "source": [
        "Python interpreter is a kind of program that takes code given by the programmer and converts it to machince level code line by line for the execution of the source code or program."
      ],
      "metadata": {
        "id": "PTFvx2_GCu-R"
      }
    },
    {
      "cell_type": "markdown",
      "source": [
        "Source code is a set of instructions that is given by the programmer to a computer to peform a task."
      ],
      "metadata": {
        "id": "E5GlEXk8DMRl"
      }
    },
    {
      "cell_type": "markdown",
      "source": [
        "Byte code is a program achieved after the execution or compilation of source code."
      ],
      "metadata": {
        "id": "SBJgmD2WDXGS"
      }
    },
    {
      "cell_type": "markdown",
      "source": [
        "Python Virtual machine is a program that provides enviornment for the execution of program written in python."
      ],
      "metadata": {
        "id": "BBJq35qEDjsq"
      }
    },
    {
      "cell_type": "markdown",
      "source": [
        "Two models are script and Interactive model.\n"
      ],
      "metadata": {
        "id": "ao088HPCDx21"
      }
    },
    {
      "cell_type": "markdown",
      "source": [
        "C Python is the official distrubution of Python Language.\n",
        "\n",
        "J Python is the Python Written in Java that can be integrated with Java for the execution\n",
        "\n",
        "IronPython is the implementation of python written in C# which can be integrated with c# for ececution\n"
      ],
      "metadata": {
        "id": "931Na2V8D__i"
      }
    },
    {
      "cell_type": "markdown",
      "source": [
        "**What are Stackless and PyPy?**\n",
        "Stackless python is a python interpreter where as PyPy is alternative implemetation of python code that runs faster than the Python code\n"
      ],
      "metadata": {
        "id": "0QSbmAz_EqUj"
      }
    },
    {
      "cell_type": "markdown",
      "source": [
        "**How can you start an interactive interpreter session?t**\n",
        "By using Python Command Line Tool."
      ],
      "metadata": {
        "id": "0q75SDcJFGEy"
      }
    },
    {
      "cell_type": "markdown",
      "source": [
        "**Where do you type a system command line to launch a script file?**\n",
        "In Python Interactiove shell or Command Prompt"
      ],
      "metadata": {
        "id": "KI5502AGFTvj"
      }
    },
    {
      "cell_type": "markdown",
      "source": [
        "**Name four or more ways to run the code saved in a script file.**\n",
        "1.Using Command Prompt.\n",
        "2.Using Python Shell.\n",
        "3.Using Python IDLE\n",
        "4.Using Python Interpreter"
      ],
      "metadata": {
        "id": "YSzZAWiMFkEs"
      }
    },
    {
      "cell_type": "markdown",
      "source": [
        "**Name two pitfalls related to clicking file icons on Windows.**\n",
        "1.The Output given by the program dissapppears immediatly\n",
        "2.Error Message generated by the System also dissapers immediatly."
      ],
      "metadata": {
        "id": "E_MJXAHTF92w"
      }
    },
    {
      "cell_type": "markdown",
      "source": [
        "**Why might you need to reload a module?**\n",
        "This is useful if you have edited the module source file using an external editor and want to try out the new version without leaving the Python interpreter. "
      ],
      "metadata": {
        "id": "Rbd2WY8IG1a4"
      }
    },
    {
      "cell_type": "markdown",
      "source": [
        "**How do you run a script from within IDLE?**\n",
        "1.By pressing F5\n",
        "2.By going to Run --> Run Module"
      ],
      "metadata": {
        "id": "s4WZ4pF2HRsy"
      }
    },
    {
      "cell_type": "markdown",
      "source": [
        "**Name two pitfalls related to using IDLE.**\n",
        "1.Can be hung because of the size.\n",
        "2.IDLE has some usability features "
      ],
      "metadata": {
        "id": "im64CICbHdFB"
      }
    },
    {
      "cell_type": "markdown",
      "source": [
        "**What is a namespace, and how does it relate to module files?**\n",
        "A namespace is a system that has a unique name for each and every object in Python. An object might be a variable or a method.A Module file is a namespace as it has a unique name than of others."
      ],
      "metadata": {
        "id": "aAMWZHlrIJST"
      }
    },
    {
      "cell_type": "markdown",
      "source": [
        "**Name four of Python’s core data types.**\n",
        "1.Numbers\n",
        "2.Strings\n",
        "3.Lists\n",
        "4.Dictionaries"
      ],
      "metadata": {
        "id": "5FP9Af8TIzaK"
      }
    },
    {
      "cell_type": "markdown",
      "source": [
        ""
      ],
      "metadata": {
        "id": "e1xJMEfiJlcY"
      }
    },
    {
      "cell_type": "markdown",
      "source": [
        "**Why are they known as core data types?**\n",
        "They are known as core data types because they are effectively built into the Python language—this implies that there is a specific syntax for generating most of them"
      ],
      "metadata": {
        "id": "y4D3SiBJJNmh"
      }
    },
    {
      "cell_type": "markdown",
      "source": [
        "**What does “immutable” mean, and which three of Python’s core types are considered immutable?**\n",
        "Immutable datatypes means that tehy cannot be changed after their creation.These are of in-built types like int, float, bool, string, unicode, tuple. "
      ],
      "metadata": {
        "id": "oyGx9ytHJlWA"
      }
    },
    {
      "cell_type": "markdown",
      "source": [
        "**What does “sequence” mean, and which three types fall into that category?**\n",
        "\n",
        "In Python programming, sequences are a generic term for an ordered set which means that the order in which we input the items will be the same when we access them. Python supports six different types of sequences. These are strings, lists, tuples, byte sequences, byte arrays, and range objects"
      ],
      "metadata": {
        "id": "fpq9-CL-KDDw"
      }
    },
    {
      "cell_type": "markdown",
      "source": [
        "**What does “mapping” mean, and which core type is a mapping?**\n",
        "A mapping type is a data type comprised of a collection of keys and associated values. Python's only built-in mapping type is the dictionary. Dictionaries"
      ],
      "metadata": {
        "id": "wQQb4ZHYKI3N"
      }
    },
    {
      "cell_type": "markdown",
      "source": [
        "**What is Polymorphism ansd why should you care for it?**\n",
        "Polymorphism is considered one of the important features of Object-Oriented Programming. Polymorphism allows us to perform a single action in different ways.We should consider it as it promotes the reusability of code."
      ],
      "metadata": {
        "id": "GWaicrfZKWo-"
      }
    },
    {
      "cell_type": "markdown",
      "metadata": {
        "id": "6kafgQs5S8WY"
      },
      "source": [
        "**Projects:-**<br>\n",
        "1. Open a Python shell, enter the following expressions, and observe the results:<br>\n",
        "a. 8<br>\n",
        "b. 8 * 2<br>\n",
        "c. 8 ** 2<br>\n",
        "d. 8/12<br>\n",
        "e. 8 // 12<br>\n",
        "f. 8/0"
      ]
    },
    {
      "cell_type": "code",
      "execution_count": null,
      "metadata": {
        "colab": {
          "base_uri": "https://localhost:8080/"
        },
        "id": "M0vvPpdkTWOZ",
        "outputId": "20d0bb8f-9d59-4500-f78a-7ab86ce552dc"
      },
      "outputs": [
        {
          "data": {
            "text/plain": [
              "0"
            ]
          },
          "execution_count": 2,
          "metadata": {},
          "output_type": "execute_result"
        }
      ],
      "source": [
        "8\n",
        "8 * 2\n",
        "8 ** 2\n",
        "8/12\n",
        "8 // 12\n",
        " "
      ]
    },
    {
      "cell_type": "markdown",
      "metadata": {
        "id": "ySRylLzXTg4L"
      },
      "source": [
        "2. Write a Python program that prints (displays) your name, address, and telephone number"
      ]
    },
    {
      "cell_type": "code",
      "execution_count": null,
      "metadata": {
        "id": "IC-e8BmAUMex"
      },
      "outputs": [],
      "source": [
        "name=\"Shasan Dhakal\"\n",
        "Address=\"Balkot ,Bhaktapur\"\n",
        "Telephone_Number=9801034111\n",
        "print(name)\n",
        "print(Address)\n",
        "print(Telephone_Number)\n"
      ]
    },
    {
      "cell_type": "markdown",
      "metadata": {
        "id": "H-t99QCLUNap"
      },
      "source": [
        "3. Evaluate the following code at a shell prompt: print(\"Your name is\", name). Then assign name an appropriate value, and evaluate the statement again."
      ]
    },
    {
      "cell_type": "code",
      "execution_count": null,
      "metadata": {
        "id": "dXcXgJUSUhwR"
      },
      "outputs": [],
      "source": [
        "name=\"Shasan Dhakal\"\n",
        "print(\"Your name is \" ,name)"
      ]
    },
    {
      "cell_type": "markdown",
      "metadata": {
        "id": "qjgWML-AUi-v"
      },
      "source": [
        "4. Write and test a program that accepts the user's name(as text) and age(as a number) as input. The program should output a sentense containing the user's name and age."
      ]
    },
    {
      "cell_type": "code",
      "execution_count": null,
      "metadata": {
        "colab": {
          "base_uri": "https://localhost:8080/"
        },
        "id": "a3yt3ND1WkF0",
        "outputId": "3fe86886-6b63-4d9d-8c29-b7a6e3e94a8a"
      },
      "outputs": [
        {
          "name": "stdout",
          "output_type": "stream",
          "text": [
            "Enter your name:-Shasan \n",
            "Enter Your age:-21\n",
            "Shasan  's age is 21 years.\n"
          ]
        }
      ],
      "source": [
        "name=input(\"Enter your name:-\")\n",
        "age=int(input(\"Enter Your age:-\"))\n",
        "print(name,\"'s age is\",age,\"years.\")"
      ]
    },
    {
      "cell_type": "markdown",
      "metadata": {
        "id": "Fw-qO1W9WlGW"
      },
      "source": [
        "5. Write and test a program that computes the area of a circle. This program should request a number representing  a radius as input from the user. It should use the formula 3.14*radius**2 to compute the area and then output this result suitably labeled."
      ]
    },
    {
      "cell_type": "code",
      "execution_count": null,
      "metadata": {
        "colab": {
          "base_uri": "https://localhost:8080/"
        },
        "id": "PwqzW8U-W8fB",
        "outputId": "7355520d-97b1-4498-c9ee-0f5b985a4537"
      },
      "outputs": [
        {
          "name": "stdout",
          "output_type": "stream",
          "text": [
            "Enter Radius:-21\n",
            "Area of the Circle is 1384.74\n"
          ]
        }
      ],
      "source": [
        "radius=float(input(\"Enter Radius:-\"))\n",
        "print(\"Area of the Circle is\",3.14*radius**2)"
      ]
    },
    {
      "cell_type": "markdown",
      "metadata": {
        "id": "roHMT8eHXDFg"
      },
      "source": [
        "6. Enter an input statement using the input function at the shll prompt. When the prompt asks you for input, enter a number. Then, attempt to add 1 to that number, observe the results and explain what happened."
      ]
    },
    {
      "cell_type": "code",
      "execution_count": null,
      "metadata": {
        "id": "Y9danKsrXXLJ"
      },
      "outputs": [],
      "source": [
        "num = input ('Number: ')\n",
        "\n",
        "num = num + 1\n",
        "\n",
        "print(num)\n",
        "'''The avobe code will generate an error as the default input type in python is of Strign data type and \n",
        "arithmetic operation is not possible in string datatype'''"
      ]
    },
    {
      "cell_type": "markdown",
      "metadata": {
        "id": "-ud9b4rIXdyO"
      },
      "source": [
        "7. Enter the expression help() at the shell prompt. Follow the instructions to browse the topics and modules."
      ]
    },
    {
      "cell_type": "code",
      "execution_count": null,
      "metadata": {
        "colab": {
          "background_save": true,
          "base_uri": "https://localhost:8080/"
        },
        "id": "Q6DP_R5hXmmS",
        "outputId": "0eaeff25-bdce-49bd-84f5-a4dbf282fc7c"
      },
      "outputs": [
        {
          "name": "stdout",
          "output_type": "stream",
          "text": [
            "\n",
            "Welcome to Python 3.7's help utility!\n",
            "\n",
            "If this is your first time using Python, you should definitely check out\n",
            "the tutorial on the Internet at https://docs.python.org/3.7/tutorial/.\n",
            "\n",
            "Enter the name of any module, keyword, or topic to get help on writing\n",
            "Python programs and using Python modules.  To quit this help utility and\n",
            "return to the interpreter, just type \"quit\".\n",
            "\n",
            "To get a list of available modules, keywords, symbols, or topics, type\n",
            "\"modules\", \"keywords\", \"symbols\", or \"topics\".  Each module also comes\n",
            "with a one-line summary of what it does; to list the modules whose name\n",
            "or summary contain a given string such as \"spam\", type \"modules spam\".\n",
            "\n"
          ]
        }
      ],
      "source": [
        "help()\n"
      ]
    },
    {
      "cell_type": "markdown",
      "metadata": {
        "id": "Mh0jLr5HYCzo"
      },
      "source": [
        "8. The tax calculator program of the case study outputs a floating-point number that might show more than two digits of precision. Use the round function to modify the program to display at most two digits of precision in the output number."
      ]
    },
    {
      "cell_type": "code",
      "execution_count": null,
      "metadata": {
        "id": "6JN4PaojYEK4"
      },
      "outputs": [],
      "source": [
        "\n",
        "# Initialize the constants\n",
        "TAX_RATE = 0.20\n",
        "STANDARD_DEDUCTION = 10000.0\n",
        "DEPENDENT_DEDUCTION = 3000.0\n",
        "\n",
        "# Request the inputs\n",
        "grossIncome = float(input(\"Enter the gross income: \"))\n",
        "numDependents = int(input(\"Enter the number of dependents: \"))\n",
        "\n",
        "# Compute the income tax\n",
        "taxableIncome = grossIncome - STANDARD_DEDUCTION - \\\n",
        "DEPENDENT_DEDUCTION * numDependents\n",
        "incomeTax = taxableIncome * TAX_RATE\n",
        "\n",
        "# Display the income tax\n",
        "print(\"The income tax is $\" + str(incomeTax))\n",
        "\n"
      ]
    },
    {
      "cell_type": "markdown",
      "metadata": {
        "id": "SeHW1j9kYF8Q"
      },
      "source": [
        "9. You can calculate the surface area of a cube if you know the length of an edge. Write a program that takes the length of an edge(an integer) as input and prints the cube's surface area as output."
      ]
    },
    {
      "cell_type": "code",
      "execution_count": null,
      "metadata": {
        "id": "otcAXgxxYkx6"
      },
      "outputs": [],
      "source": [
        "edge = float(input(\"Edge Length: \"))\n",
        "\n",
        "area = 6 * edge**2\n",
        "\n",
        "print(\"Surface Area: \",area)"
      ]
    },
    {
      "cell_type": "markdown",
      "metadata": {
        "id": "O3379lCKYlcr"
      },
      "source": [
        "10.Five Star Retro Video rents VHS tapes and DVDs to the same connoisseurs who like to buy LP record albums. The store rents new videos for $3.00 a night, and oldies for $2.00 a night.\n",
        "\n",
        "Write a program that the clerks at Five Star Retro Video can use to calculate the total charge for a customer’s video rentals.\n",
        "\n",
        "The program should prompt the user for the number of each type of video and output the total cost."
      ]
    },
    {
      "cell_type": "code",
      "execution_count": null,
      "metadata": {
        "id": "kKoIAmUpY4dY"
      },
      "outputs": [],
      "source": [
        "videos = int(input(\"Enter the number of new videos: \"))\n",
        "oldies = int(input(\"Enter the number of oldies: \"))\n",
        "result = (videos *3.00) + (oldies* 2.00)\n",
        "print(\"The total cost is\",\"Rs.\",result)"
      ]
    },
    {
      "cell_type": "markdown",
      "metadata": {
        "id": "oBQWzZuoY9dH"
      },
      "source": [
        "11. Write a program that takes the radius of a sphere(a floating point number) as input and then outputs the sphere's diameter, circumference, surface area and volume."
      ]
    },
    {
      "cell_type": "code",
      "execution_count": null,
      "metadata": {
        "id": "MNAlLLYrbatP"
      },
      "outputs": [],
      "source": [
        "radius=float(input(\"Enter the Radius:-\"))\n",
        "diameter=2*radius\n",
        "c=2*(22/7)*radius\n",
        "area=(22/7)*radius**2\n",
        "v=(4/3)*(22/7)*radius**3\n",
        "print(\"Diameter of the circle is \",diameter)\n",
        "print(\"Area of the circle is \",area)\n",
        "print(\"Circumference  of the circle is \",circumference)\n",
        "print(\"Volume of the circle is \",v)"
      ]
    },
    {
      "cell_type": "markdown",
      "metadata": {
        "id": "zOx3W9G8bb_2"
      },
      "source": [
        "12. Instructions An object's momentum is its mass multiplied by its velocity. Write a program that accepts an object's mass (in kilograms) and velocity (in meters per second) as inputs, and then outputs its momentum."
      ]
    },
    {
      "cell_type": "code",
      "execution_count": 1,
      "metadata": {
        "id": "hlYAuUajdI0X",
        "colab": {
          "base_uri": "https://localhost:8080/"
        },
        "outputId": "04a23f41-4418-4630-fff3-bd3eb59c9f5c"
      },
      "outputs": [
        {
          "output_type": "stream",
          "name": "stdout",
          "text": [
            "Enter the mass in Kgs:-343.3\n",
            "Enter the velocity in m/s:-323.3\n",
            "The Momentum is  110988.89000000001 kg m/s\n"
          ]
        }
      ],
      "source": [
        "mass=float(input(\"Enter the mass in Kgs:-\"))\n",
        "vel=float(input(\"Enter the velocity in m/s:-\"))\n",
        "print(\"The Momentum is \",mass*vel,\"kg m/s\")"
      ]
    },
    {
      "cell_type": "markdown",
      "metadata": {
        "id": "jU4yPCcrdf0D"
      },
      "source": [
        "13. The kinetic energy of a moving object is given by the formula KE = ½mv2 where m is the object’s mass and v is its velocity.\n",
        "\n",
        "Modify the program you created in Project 5 so that it prints the object’s kinetic energy as well as its momentum."
      ]
    },
    {
      "cell_type": "code",
      "execution_count": null,
      "metadata": {
        "id": "ocVu-KGkd9lN"
      },
      "outputs": [],
      "source": [
        "mass=float(input(\"Enter the mass in Kgs:-\"))\n",
        "vel=float(input(\"Enter the velocity in m/s:-\"))\n",
        "print(\"The Momentum is \",mass*vel,\"kg m/s\")\n",
        "print(\"The Velocity is \",0.5*mass*(vel**2))"
      ]
    },
    {
      "cell_type": "markdown",
      "metadata": {
        "id": "KGUdbd0Od-TE"
      },
      "source": [
        "14. An employee’s total weekly pay equals the hourly wage multiplied by the total number of regular hours plus any overtime pay. Overtime pay equals the total overtime hours multiplied by 1.5 times the hourly wage. Write a program that takes as inputs the hourly wage, total regular hours, and total overtime hours and displays an employee’s total weekly pay."
      ]
    },
    {
      "cell_type": "code",
      "execution_count": null,
      "metadata": {
        "colab": {
          "base_uri": "https://localhost:8080/"
        },
        "id": "d4lYL0jFekM1",
        "outputId": "a96852f0-9445-4930-a5bf-16d36a7910ae"
      },
      "outputs": [
        {
          "name": "stdout",
          "output_type": "stream",
          "text": [
            "Enter hourly wage: 12\n",
            "Enter total number of regular hours: 12\n",
            "Enter overtime hours: 22\n",
            "540.0\n"
          ]
        }
      ],
      "source": [
        "wage = float(input(\"Enter hourly wage: \"))#defining a variable Wage that inputs float value\n",
        "\n",
        "hour = float(input(\"Enter total number of regular hours: \"))#defining a variable Hour that inputs float value\n",
        "\n",
        "hours = float(input(\"Enter overtime hours: \"))#defining a variable Hours that inputs float value\n",
        "\n",
        "weeklyPay = (wage*hour) + (1.5*wage*hours)#defining a variable weeklyPay that calculates the values\n",
        "\n",
        "print (weeklyPay)#defining a print method that prints weeklyPay value"
      ]
    },
    {
      "cell_type": "markdown",
      "metadata": {
        "id": "6KBqGepcfGWI"
      },
      "source": [
        ""
      ]
    }
  ],
  "metadata": {
    "colab": {
      "collapsed_sections": [],
      "name": "first_assignment.ipynb",
      "provenance": []
    },
    "kernelspec": {
      "display_name": "Python 3",
      "name": "python3"
    }
  },
  "nbformat": 4,
  "nbformat_minor": 0
}