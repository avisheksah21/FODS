{
  "nbformat": 4,
  "nbformat_minor": 0,
  "metadata": {
    "colab": {
      "name": "Dipanshu-First Assignment",
      "provenance": [],
      "collapsed_sections": []
    },
    "kernelspec": {
      "name": "python3",
      "display_name": "Python 3"
    }
  },
  "cells": [
    {
      "cell_type": "markdown",
      "metadata": {
        "id": "uiK0fGWOnXcQ"
      },
      "source": [
        "Book :- \n",
        "Author :- Mark Lutz \n",
        "1. Learning Python 5th Edition O'Reilly\n",
        "2.Python Cookbook  David Beazley O'Reilly \n",
        "\n",
        "Link:- \n",
        "1.https://pynative.com/python/basics/\n",
        "2. http://www.cs.uni.edu/~fienup/cs051f10/lectures/\n",
        "3. https://github.com/MrAlex6204/Books/blob/master/Learning%20Python%2C%205th%20Edition.pdf\n",
        "4. https://github.com/tomarraj008/data_books/blob/master/Python%20Cookbook%2C%203rd%20Edition.pdf\n",
        "\n"
      ]
    },
    {
      "cell_type": "markdown",
      "metadata": {
        "id": "g5RW89-P01bg"
      },
      "source": [
        "First Week Assignment \n",
        "\n",
        "Test Your Knowledge: Quiz \n",
        "\n",
        "1. What are the six main reasons that people choose to use Python?\n",
        "2. Name four notable companies or organizations using Python today.\n",
        "3. Why might you not want to use Python in an application?\n",
        "4. What can you do with Python?\n",
        "5. What’s the significance of the Python import this statement?\n",
        "6. Why does “spam” show up in so many Python examples in books and on the Web?\n",
        "7. What is your favorite color?\n",
        "\n",
        "\n",
        "Test Your Knowledge: Quiz\n",
        "1. What is the Python interpreter?\n",
        "2. What is source code?\n",
        "3. What is byte code?\n",
        "4. What is the PVM?\n",
        "5. Name two or more variations on Python’s standard execution model.\n",
        "6. How are CPython, Jython, and IronPython different?\n",
        "7. What are Stackless and PyPy?\n",
        "\n",
        "Test Your Knowledge: Quiz\n",
        "1. How can you start an interactive interpreter session?\n",
        "2. Where do you type a system command line to launch a script file?\n",
        "3. Name four or more ways to run the code saved in a script file.\n",
        "4. Name two pitfalls related to clicking file icons on Windows.\n",
        "5. Why might you need to reload a module?\n",
        "6. How do you run a script from within IDLE?\n",
        "7. Name two pitfalls related to using IDLE.\n",
        "8. What is a namespace, and how does it relate to module files?\n",
        "\n",
        "\n",
        "Test Your Knowledge: Quiz\n",
        "\n",
        "1. Name four of Python’s core data types.\n",
        "2. Why are they called “core” data types?\n",
        "3. What does “immutable” mean, and which three of Python’s core types are considered immutable?\n",
        "4. What does “sequence” mean, and which three types fall into that category?\n",
        "5. What does “mapping” mean, and which core type is a mapping?\n",
        "6. What is “polymorphism,” and why should you care?\n",
        "\n",
        "\n",
        "\n"
      ]
    },
    {
      "cell_type": "markdown",
      "metadata": {
        "id": "6kafgQs5S8WY"
      },
      "source": [
        "**Projects:-**<br>\n",
        "1. Open a Python shell, enter the following expressions, and observe the results:<br>\n",
        "a. 8<br>\n",
        "b. 8 * 2<br>\n",
        "c. 8 ** 2<br>\n",
        "d. 8/12<br>\n",
        "e. 8 // 12<br>\n",
        "f. 8/0"
      ]
    },
    {
      "cell_type": "code",
      "source": [
        "8"
      ],
      "metadata": {
        "colab": {
          "base_uri": "https://localhost:8080/"
        },
        "id": "3Bc888S6LtCC",
        "outputId": "58d74c80-f194-45d9-cdf9-75132bdcb16d"
      },
      "execution_count": 30,
      "outputs": [
        {
          "output_type": "execute_result",
          "data": {
            "text/plain": [
              "8"
            ]
          },
          "metadata": {},
          "execution_count": 30
        }
      ]
    },
    {
      "cell_type": "code",
      "source": [
        "8*2"
      ],
      "metadata": {
        "colab": {
          "base_uri": "https://localhost:8080/"
        },
        "id": "Yftxr_ljLs5s",
        "outputId": "0273a77a-abbd-4946-b373-2b8b5d8e3143"
      },
      "execution_count": 31,
      "outputs": [
        {
          "output_type": "execute_result",
          "data": {
            "text/plain": [
              "16"
            ]
          },
          "metadata": {},
          "execution_count": 31
        }
      ]
    },
    {
      "cell_type": "code",
      "source": [
        "8**2"
      ],
      "metadata": {
        "colab": {
          "base_uri": "https://localhost:8080/"
        },
        "id": "gJ6nmX_vLsuy",
        "outputId": "fe3c3fac-b54e-4d50-cc6d-8de8fcbece14"
      },
      "execution_count": 32,
      "outputs": [
        {
          "output_type": "execute_result",
          "data": {
            "text/plain": [
              "64"
            ]
          },
          "metadata": {},
          "execution_count": 32
        }
      ]
    },
    {
      "cell_type": "code",
      "source": [
        "8/12"
      ],
      "metadata": {
        "colab": {
          "base_uri": "https://localhost:8080/"
        },
        "id": "PaN3ZhfALsL8",
        "outputId": "095580bd-fff4-4b64-8e73-733bd6f78e6e"
      },
      "execution_count": 33,
      "outputs": [
        {
          "output_type": "execute_result",
          "data": {
            "text/plain": [
              "0.6666666666666666"
            ]
          },
          "metadata": {},
          "execution_count": 33
        }
      ]
    },
    {
      "cell_type": "code",
      "source": [
        "8//12"
      ],
      "metadata": {
        "colab": {
          "base_uri": "https://localhost:8080/"
        },
        "id": "SidG59DfLsCB",
        "outputId": "10ab2ac6-7b80-410b-f9f0-382e1796e4c0"
      },
      "execution_count": 34,
      "outputs": [
        {
          "output_type": "execute_result",
          "data": {
            "text/plain": [
              "0"
            ]
          },
          "metadata": {},
          "execution_count": 34
        }
      ]
    },
    {
      "cell_type": "code",
      "metadata": {
        "id": "M0vvPpdkTWOZ",
        "colab": {
          "base_uri": "https://localhost:8080/",
          "height": 166
        },
        "outputId": "ee8d7bb3-ba8a-4e7d-b961-1be57e3482ed"
      },
      "source": [
        "8/0"
      ],
      "execution_count": 35,
      "outputs": [
        {
          "output_type": "error",
          "ename": "ZeroDivisionError",
          "evalue": "ignored",
          "traceback": [
            "\u001b[0;31m---------------------------------------------------------------------------\u001b[0m",
            "\u001b[0;31mZeroDivisionError\u001b[0m                         Traceback (most recent call last)",
            "\u001b[0;32m<ipython-input-35-b75faf41dc75>\u001b[0m in \u001b[0;36m<module>\u001b[0;34m()\u001b[0m\n\u001b[0;32m----> 1\u001b[0;31m \u001b[0;36m8\u001b[0m\u001b[0;34m/\u001b[0m\u001b[0;36m0\u001b[0m\u001b[0;34m\u001b[0m\u001b[0;34m\u001b[0m\u001b[0m\n\u001b[0m",
            "\u001b[0;31mZeroDivisionError\u001b[0m: division by zero"
          ]
        }
      ]
    },
    {
      "cell_type": "markdown",
      "metadata": {
        "id": "ySRylLzXTg4L"
      },
      "source": [
        "2. Write a Python program that prints (displays) your name, address, and telephone number"
      ]
    },
    {
      "cell_type": "code",
      "metadata": {
        "id": "IC-e8BmAUMex",
        "colab": {
          "base_uri": "https://localhost:8080/"
        },
        "outputId": "b5215d75-f7c4-4be2-970b-89bc6bff0fb9"
      },
      "source": [
        "name=\"Dipanshu\"\n",
        "Address=\"TBC, Kathmandu\"\n",
        "Telephone_number=\"98410XXXXX\"\n",
        "print(name)\n",
        "print(Address)\n",
        "print(Telephone_number)"
      ],
      "execution_count": 1,
      "outputs": [
        {
          "output_type": "stream",
          "name": "stdout",
          "text": [
            "Dipanshu\n",
            "TBC, Kathmandu\n",
            "98410XXXXX\n"
          ]
        }
      ]
    },
    {
      "cell_type": "markdown",
      "metadata": {
        "id": "H-t99QCLUNap"
      },
      "source": [
        "3. Evaluate the following code at a shell prompt: print(\"Your name is\", name). Then assign name an appropriate value, and evaluate the statement again."
      ]
    },
    {
      "cell_type": "code",
      "metadata": {
        "id": "dXcXgJUSUhwR",
        "colab": {
          "base_uri": "https://localhost:8080/"
        },
        "outputId": "8b50d2db-b1d2-4f2a-89ce-dd8911c11dfb"
      },
      "source": [
        "name=\"Dipanshu Agrawal\"\n",
        "print(\"Your name is\", name)"
      ],
      "execution_count": 2,
      "outputs": [
        {
          "output_type": "stream",
          "name": "stdout",
          "text": [
            "Your name is Dipanshu Agrawal\n"
          ]
        }
      ]
    },
    {
      "cell_type": "markdown",
      "metadata": {
        "id": "qjgWML-AUi-v"
      },
      "source": [
        "4. Write and test a program that accepts the user's name(as text) and age(as a number) as input. The program should output a sentense containing the user's name and age."
      ]
    },
    {
      "cell_type": "code",
      "metadata": {
        "id": "a3yt3ND1WkF0",
        "colab": {
          "base_uri": "https://localhost:8080/"
        },
        "outputId": "accf4bff-ad32-455e-fb08-e1b7fb9eadff"
      },
      "source": [
        "name=input(\"Enter your name: \")\n",
        "age=int(input(\"Enter your age: \"))\n",
        "print(name,\"is\",age,\"years old\")"
      ],
      "execution_count": 6,
      "outputs": [
        {
          "output_type": "stream",
          "name": "stdout",
          "text": [
            "Enter your name: Dipanshu\n",
            "Enter your age: 18\n",
            "Dipanshu is 18 years old\n"
          ]
        }
      ]
    },
    {
      "cell_type": "markdown",
      "metadata": {
        "id": "Fw-qO1W9WlGW"
      },
      "source": [
        "5. Write and test a program that computes the area of a circle. This program should request a number representing  a radius as input from the user. It should use the formula 3.14*radius**2 to compute the area and then output this result suitably labeled."
      ]
    },
    {
      "cell_type": "code",
      "metadata": {
        "id": "PwqzW8U-W8fB",
        "colab": {
          "base_uri": "https://localhost:8080/"
        },
        "outputId": "646843f9-4650-4307-9084-731bf31ef88d"
      },
      "source": [
        "pi=3.14\n",
        "r = float(input (\"Input the radius of the circle : \"))\n",
        "area= pi * r**2\n",
        "print(\"The area of the circle is \",area)"
      ],
      "execution_count": 5,
      "outputs": [
        {
          "output_type": "stream",
          "name": "stdout",
          "text": [
            "Input the radius of the circle : 7\n",
            "The area of the circle is  153.86\n"
          ]
        }
      ]
    },
    {
      "cell_type": "markdown",
      "metadata": {
        "id": "roHMT8eHXDFg"
      },
      "source": [
        "6. Enter an input statement using the input function at the shll prompt. When the prompt asks you for input, enter a number. Then, attempt to add 1 to that number, observe the results and explain what happened."
      ]
    },
    {
      "cell_type": "code",
      "metadata": {
        "id": "Y9danKsrXXLJ",
        "colab": {
          "base_uri": "https://localhost:8080/",
          "height": 201
        },
        "outputId": "979856ab-1eae-4704-c3df-ef466a6f3535"
      },
      "source": [
        "a = input(\"Ener a number: \")\n",
        "a+=1"
      ],
      "execution_count": 7,
      "outputs": [
        {
          "name": "stdout",
          "output_type": "stream",
          "text": [
            "Ener a number: 2\n"
          ]
        },
        {
          "output_type": "error",
          "ename": "TypeError",
          "evalue": "ignored",
          "traceback": [
            "\u001b[0;31m---------------------------------------------------------------------------\u001b[0m",
            "\u001b[0;31mTypeError\u001b[0m                                 Traceback (most recent call last)",
            "\u001b[0;32m<ipython-input-7-637e575e9af8>\u001b[0m in \u001b[0;36m<module>\u001b[0;34m()\u001b[0m\n\u001b[1;32m      1\u001b[0m \u001b[0ma\u001b[0m \u001b[0;34m=\u001b[0m \u001b[0minput\u001b[0m\u001b[0;34m(\u001b[0m\u001b[0;34m\"Ener a number: \"\u001b[0m\u001b[0;34m)\u001b[0m\u001b[0;34m\u001b[0m\u001b[0;34m\u001b[0m\u001b[0m\n\u001b[0;32m----> 2\u001b[0;31m \u001b[0ma\u001b[0m\u001b[0;34m+=\u001b[0m\u001b[0;36m1\u001b[0m\u001b[0;34m\u001b[0m\u001b[0;34m\u001b[0m\u001b[0m\n\u001b[0m",
            "\u001b[0;31mTypeError\u001b[0m: can only concatenate str (not \"int\") to str"
          ]
        }
      ]
    },
    {
      "cell_type": "markdown",
      "metadata": {
        "id": "-ud9b4rIXdyO"
      },
      "source": [
        "7. Enter the expression help() at the shell prompt. Follow the instructions to browse the topics and modules."
      ]
    },
    {
      "cell_type": "code",
      "metadata": {
        "id": "Q6DP_R5hXmmS",
        "colab": {
          "base_uri": "https://localhost:8080/"
        },
        "outputId": "66d7c102-35bc-463e-bfd2-7982b11c57b2"
      },
      "source": [
        "help()"
      ],
      "execution_count": 8,
      "outputs": [
        {
          "output_type": "stream",
          "name": "stdout",
          "text": [
            "\n",
            "Welcome to Python 3.7's help utility!\n",
            "\n",
            "If this is your first time using Python, you should definitely check out\n",
            "the tutorial on the Internet at https://docs.python.org/3.7/tutorial/.\n",
            "\n",
            "Enter the name of any module, keyword, or topic to get help on writing\n",
            "Python programs and using Python modules.  To quit this help utility and\n",
            "return to the interpreter, just type \"quit\".\n",
            "\n",
            "To get a list of available modules, keywords, symbols, or topics, type\n",
            "\"modules\", \"keywords\", \"symbols\", or \"topics\".  Each module also comes\n",
            "with a one-line summary of what it does; to list the modules whose name\n",
            "or summary contain a given string such as \"spam\", type \"modules spam\".\n",
            "\n",
            "help> quit\n",
            "\n",
            "You are now leaving help and returning to the Python interpreter.\n",
            "If you want to ask for help on a particular object directly from the\n",
            "interpreter, you can type \"help(object)\".  Executing \"help('string')\"\n",
            "has the same effect as typing a particular string at the help> prompt.\n"
          ]
        }
      ]
    },
    {
      "cell_type": "markdown",
      "metadata": {
        "id": "Mh0jLr5HYCzo"
      },
      "source": [
        "8. The tax calculator program of the case study outputs a floating-point number that might show more than two digits of precision. Use the round function to modify the program to display at most two digits of precision in the output number."
      ]
    },
    {
      "cell_type": "code",
      "metadata": {
        "id": "6JN4PaojYEK4",
        "colab": {
          "base_uri": "https://localhost:8080/"
        },
        "outputId": "e785a1dc-9c6f-4502-8f16-5f689ade159e"
      },
      "source": [
        "TaxVal=float(input(\"Enter the tax to round: \"))\n",
        "print(\"The income tax is Rs.\" + str(round(TaxVal,2)))"
      ],
      "execution_count": 13,
      "outputs": [
        {
          "output_type": "stream",
          "name": "stdout",
          "text": [
            "Enter the tax to round: 74865.75786\n",
            "The income tax is Rs.74865.76\n"
          ]
        }
      ]
    },
    {
      "cell_type": "markdown",
      "metadata": {
        "id": "SeHW1j9kYF8Q"
      },
      "source": [
        "9. You can calculate the surface area of a cube if you know the length of an edge. Write a program that takes the length of an edge(an integer) as input and prints the cube's surface area as output."
      ]
    },
    {
      "cell_type": "code",
      "metadata": {
        "id": "otcAXgxxYkx6",
        "colab": {
          "base_uri": "https://localhost:8080/"
        },
        "outputId": "1e35884d-6009-46bc-e0ed-58b460a452d4"
      },
      "source": [
        "a=int(input(\"Enter the length of an edge: \"))\n",
        "sa=6*(a**2)\n",
        "print(\"The surface area of the cube is\",sa)"
      ],
      "execution_count": 14,
      "outputs": [
        {
          "output_type": "stream",
          "name": "stdout",
          "text": [
            "Enter the length of an edge: 10\n",
            "The surface area of the cube is  600\n"
          ]
        }
      ]
    },
    {
      "cell_type": "markdown",
      "metadata": {
        "id": "O3379lCKYlcr"
      },
      "source": [
        "10.Five Star Retro Video rents VHS tapes and DVDs to the same connoisseurs who like to buy LP record albums. The store rents new videos for $3.00 a night, and oldies for $2.00 a night.\n",
        "\n",
        "Write a program that the clerks at Five Star Retro Video can use to calculate the total charge for a customer’s video rentals.\n",
        "\n",
        "The program should prompt the user for the number of each type of video and output the total cost."
      ]
    },
    {
      "cell_type": "code",
      "metadata": {
        "id": "kKoIAmUpY4dY",
        "colab": {
          "base_uri": "https://localhost:8080/"
        },
        "outputId": "8ba3f433-5e4c-41c1-8e73-2d5e5528d0db"
      },
      "source": [
        "Old=int(input(\"Enter the amount of old VHS/DVD rented \"))\n",
        "New=int(input(\"Enter the amount of new VHS/DVD rented \"))\n",
        "cost=(Old*2)+(New*3)\n",
        "print(\"The total cost for this customer is\", cost)"
      ],
      "execution_count": 21,
      "outputs": [
        {
          "output_type": "stream",
          "name": "stdout",
          "text": [
            "Enter the amount of old VHS/DVD rented 3\n",
            "Enter the amount of new VHS/DVD rented 4\n",
            "The total cost for this customer is 18\n"
          ]
        }
      ]
    },
    {
      "cell_type": "markdown",
      "metadata": {
        "id": "oBQWzZuoY9dH"
      },
      "source": [
        "11. Write a program that takes the radius of a sphere(a floating point number) as input and then outputs the sphere's diameter, circumference, surface area and volume."
      ]
    },
    {
      "cell_type": "code",
      "metadata": {
        "id": "MNAlLLYrbatP",
        "colab": {
          "base_uri": "https://localhost:8080/"
        },
        "outputId": "0fc5288b-2af1-4810-9af8-df9cbe5e7a81"
      },
      "source": [
        "r=float(input(\"Enter the radius of sphere: \"))\n",
        "d= 2*r\n",
        "c= 2*3.14*(r**2)\n",
        "sa= 4*3.14*(r**2)\n",
        "v=4/3*(3.14)*(r**3)\n",
        "print(\"The diameter of the sphere is\",d)\n",
        "print(\"The circumference of the sphere is\",c)\n",
        "print(\"The surface area of the sphere is\",sa)\n",
        "print(\"The volume of the sphere is\",v)"
      ],
      "execution_count": 23,
      "outputs": [
        {
          "output_type": "stream",
          "name": "stdout",
          "text": [
            "Enter the radius of sphere: 4\n",
            "The diameter of the sphere is 8.0\n",
            "The circumference of the sphere is 100.48\n",
            "The surface area of the sphere is 200.96\n",
            "The volume of the sphere is 267.94666666666666\n"
          ]
        }
      ]
    },
    {
      "cell_type": "markdown",
      "metadata": {
        "id": "zOx3W9G8bb_2"
      },
      "source": [
        "12. Instructions An object's momentum is its mass multiplied by its velocity. Write a program that accepts an object's mass (in kilograms) and velocity (in meters per second) as inputs, and then outputs its momentum."
      ]
    },
    {
      "cell_type": "code",
      "metadata": {
        "id": "hlYAuUajdI0X",
        "colab": {
          "base_uri": "https://localhost:8080/"
        },
        "outputId": "268f069d-3bf0-49e5-f11f-0fcb609be6b7"
      },
      "source": [
        "mass=int(input(\"Enter the mass of an object: \"))\n",
        "velocity=int(input(\"Enter the velocity of object in meter/second: \"))\n",
        "momentum=mass*velocity\n",
        "print(\"The momentium of the object is \",momentum)"
      ],
      "execution_count": 25,
      "outputs": [
        {
          "output_type": "stream",
          "name": "stdout",
          "text": [
            "Enter the mass of an object: 1000\n",
            "Enter the velocity of object in meter/second: 10\n",
            "The momentium of the object is  10000\n"
          ]
        }
      ]
    },
    {
      "cell_type": "markdown",
      "metadata": {
        "id": "jU4yPCcrdf0D"
      },
      "source": [
        "13. The kinetic energy of a moving object is given by the formula KE = ½mv2 where m is the object’s mass and v is its velocity.\n",
        "\n",
        "Modify the program you created in Project 5 so that it prints the object’s kinetic energy as well as its momentum."
      ]
    },
    {
      "cell_type": "code",
      "metadata": {
        "id": "ocVu-KGkd9lN",
        "colab": {
          "base_uri": "https://localhost:8080/"
        },
        "outputId": "fd2cf055-2ad1-427b-f4b0-41c12ff7c304"
      },
      "source": [
        "mass=int(input(\"Enter the mass of an object: \"))\n",
        "velocity=int(input(\"Enter the velocity of object in m/s: \"))\n",
        "momentum=mass*velocity\n",
        "kinetic_energy=1/2*mass*(velocity**2)\n",
        "print(\"The momentium of the object is \",momentum)\n",
        "print(\"The kinetic energy of the object is\", kinetic_energy)"
      ],
      "execution_count": 26,
      "outputs": [
        {
          "output_type": "stream",
          "name": "stdout",
          "text": [
            "Enter the mass of an object: 10\n",
            "Enter the velocity of object in m/s: 5\n",
            "The momentium of the object is  50\n",
            "The kinetic energy of the object is 125.0\n"
          ]
        }
      ]
    },
    {
      "cell_type": "markdown",
      "metadata": {
        "id": "KGUdbd0Od-TE"
      },
      "source": [
        "14. An employee’s total weekly pay equals the hourly wage multiplied by the total number of regular hours plus any overtime pay. Overtime pay equals the total overtime hours multiplied by 1.5 times the hourly wage. Write a program that takes as inputs the hourly wage, total regular hours, and total overtime hours and displays an employee’s total weekly pay."
      ]
    },
    {
      "cell_type": "code",
      "metadata": {
        "id": "d4lYL0jFekM1",
        "colab": {
          "base_uri": "https://localhost:8080/"
        },
        "outputId": "e2b99d3d-a7a4-4eda-c7d9-6e6896bd2d64"
      },
      "source": [
        "hour=float(input(\"Enter the working hours \"))\n",
        "hours_worked=15\n",
        "ovh=float(input(\"Enter the overtime working hours \"))\n",
        "wage=(hour*hw)+ovh*(hours_worked*1.5)\n",
        "print(\"The total weekly wage is\", wage)"
      ],
      "execution_count": 29,
      "outputs": [
        {
          "output_type": "stream",
          "name": "stdout",
          "text": [
            "Enter the working hours 40\n",
            "Enter the overtime working hours 10\n",
            "The total weekly wage is 825.0\n"
          ]
        }
      ]
    }
  ]
}