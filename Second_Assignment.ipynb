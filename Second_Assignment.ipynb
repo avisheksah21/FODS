{
  "nbformat": 4,
  "nbformat_minor": 0,
  "metadata": {
    "colab": {
      "name": "Second Assignment",
      "provenance": []
    },
    "kernelspec": {
      "name": "python3",
      "display_name": "Python 3"
    },
    "language_info": {
      "name": "python"
    }
  },
  "cells": [
    {
      "cell_type": "markdown",
      "source": [
        "Write a Python function to find the Max of three numbers\n",
        "\n"
      ],
      "metadata": {
        "id": "twtI6nif2V0k"
      }
    },
    {
      "cell_type": "code",
      "execution_count": 2,
      "metadata": {
        "colab": {
          "base_uri": "https://localhost:8080/"
        },
        "id": "wyzu82qq1eZD",
        "outputId": "50c1fc5f-4b4e-4464-986f-0c8341ef72a7"
      },
      "outputs": [
        {
          "output_type": "stream",
          "name": "stdout",
          "text": [
            "Enter first number: 109\n",
            "Enter second number: 231\n",
            "Enter Third number: 45\n",
            "Largest number among  the three is 231\n"
          ]
        }
      ],
      "source": [
        "def max_num():\n",
        " a=int(input(\"Enter first number: \"));\n",
        "\n",
        " b=int(input(\"Enter second number: \"));\n",
        "\n",
        " c=int(input(\"Enter Third number: \"));\n",
        " if(a>=b) and (a>=c):\n",
        "        L=a\n",
        " elif(b>=a) and (b>=c):\n",
        "         L=b\n",
        " else:\n",
        "         L=c\n",
        " print(\"Largest number among  the three is\",L)\n",
        "max_num()"
      ]
    },
    {
      "cell_type": "markdown",
      "source": [
        "Write a Python function to sum all the numbers in a list\n",
        "\n"
      ],
      "metadata": {
        "id": "wRc3vn0g2WSj"
      }
    },
    {
      "cell_type": "code",
      "source": [
        "list_x = [17, 34, 7, 108, 30]\n",
        "x=sum(list_x)\n",
        "print(x)"
      ],
      "metadata": {
        "colab": {
          "base_uri": "https://localhost:8080/"
        },
        "id": "OXYkZqT72WfV",
        "outputId": "6c5cc48a-dd0a-4c49-eb19-e5987cc0c1ca"
      },
      "execution_count": 4,
      "outputs": [
        {
          "output_type": "stream",
          "name": "stdout",
          "text": [
            "196\n"
          ]
        }
      ]
    },
    {
      "cell_type": "markdown",
      "source": [
        "Write a Python function to multiply all the numbers in a list\n",
        "\n"
      ],
      "metadata": {
        "id": "lCI_Ngw52W4M"
      }
    },
    {
      "cell_type": "code",
      "source": [
        "def multiply():\n",
        " list_m = [17, 34, 7, 108, 30]\n",
        " for i in list_m:\n",
        "  a=i*i+1\n",
        "  i+=i\n",
        " print(a)\n",
        "multiply()"
      ],
      "metadata": {
        "colab": {
          "base_uri": "https://localhost:8080/"
        },
        "id": "7vQorNCH2XI0",
        "outputId": "e81f59ac-21bb-428e-f0dd-9b56815d3a2a"
      },
      "execution_count": 5,
      "outputs": [
        {
          "output_type": "stream",
          "name": "stdout",
          "text": [
            "901\n"
          ]
        }
      ]
    },
    {
      "cell_type": "markdown",
      "source": [
        "Write a Python program to reverse a string\n",
        "\n"
      ],
      "metadata": {
        "id": "ilJVqY2M2XYW"
      }
    },
    {
      "cell_type": "code",
      "source": [
        "string = \"White Devil\"[::-1]\n",
        "print(string)"
      ],
      "metadata": {
        "colab": {
          "base_uri": "https://localhost:8080/"
        },
        "id": "xzZWsTa12XnT",
        "outputId": "ed7c499f-f7f1-4826-dcb2-4d76c5276c33"
      },
      "execution_count": 6,
      "outputs": [
        {
          "output_type": "stream",
          "name": "stdout",
          "text": [
            "liveD etihW\n"
          ]
        }
      ]
    },
    {
      "cell_type": "markdown",
      "source": [
        "WAP to claculate factorial"
      ],
      "metadata": {
        "id": "lifM48NI2X2N"
      }
    },
    {
      "cell_type": "code",
      "source": [
        "def factorial():\n",
        " n=int(input(\"Input a number to calculate the factiorial : \"))\n",
        " if n == 0:\n",
        "  print(\"1\")\n",
        " else:\n",
        "  a=n*(n-1)\n",
        " print(a)\n",
        "factorial()"
      ],
      "metadata": {
        "colab": {
          "base_uri": "https://localhost:8080/"
        },
        "id": "bB1nZVgu2YGR",
        "outputId": "3e3b2bcf-c7b4-45ab-b827-66a3b6a3cc01"
      },
      "execution_count": 7,
      "outputs": [
        {
          "output_type": "stream",
          "name": "stdout",
          "text": [
            "Input a number to calculate the factiorial : 3\n",
            "6\n"
          ]
        }
      ]
    },
    {
      "cell_type": "markdown",
      "source": [
        "Upper and Lower Text"
      ],
      "metadata": {
        "id": "jUNtQNmz2YUg"
      }
    },
    {
      "cell_type": "code",
      "source": [
        "string=\"wHitE DeViL\"\n",
        "print(string.upper())\n",
        "print(string.lower())"
      ],
      "metadata": {
        "colab": {
          "base_uri": "https://localhost:8080/"
        },
        "id": "hLmVct2L4CwD",
        "outputId": "644c617e-121a-40d0-e307-78ceaefbc167"
      },
      "execution_count": 11,
      "outputs": [
        {
          "output_type": "stream",
          "name": "stdout",
          "text": [
            "WHITE DEVIL\n",
            "white devil\n"
          ]
        }
      ]
    },
    {
      "cell_type": "markdown",
      "source": [
        "New list with no duplicate value"
      ],
      "metadata": {
        "id": "m8ngGTBp4iks"
      }
    },
    {
      "cell_type": "code",
      "source": [
        "def dup():\n",
        "  list_a = [10, 20, 30, 40, 20, 50, 60, 40]\n",
        "  print(\"Original List : \",list_a)\n",
        "  set_a = set(list_a)\n",
        "  list_final = list(list_a)\n",
        "  print(\"List of unique numbers : \",list_final)\n",
        "dup()"
      ],
      "metadata": {
        "colab": {
          "base_uri": "https://localhost:8080/"
        },
        "id": "X0UUTFrQ4i2P",
        "outputId": "2b47ae6a-425c-4125-ff67-3de27a8e931f"
      },
      "execution_count": 14,
      "outputs": [
        {
          "output_type": "stream",
          "name": "stdout",
          "text": [
            "Original List :  [10, 20, 30, 40, 20, 50, 60, 40]\n",
            "List of unique numbers :  [10, 20, 30, 40, 20, 50, 60, 40]\n"
          ]
        }
      ]
    },
    {
      "cell_type": "markdown",
      "source": [
        "Prime or not\n",
        "\n"
      ],
      "metadata": {
        "id": "wQaFOFc24jFr"
      }
    },
    {
      "cell_type": "code",
      "source": [
        "def test_prime(n):\n",
        "    if (n==1):\n",
        "        return False\n",
        "    elif (n==2):\n",
        "        return True;\n",
        "    else:\n",
        "        for x in range(2,n):\n",
        "            if(n % x==0):\n",
        "                return False\n",
        "        return True             \n",
        "print(test_prime(607))"
      ],
      "metadata": {
        "colab": {
          "base_uri": "https://localhost:8080/"
        },
        "id": "PiZ3hA1a4jU_",
        "outputId": "130cddf4-103b-4fc3-da14-2ac36ba5b71e"
      },
      "execution_count": 18,
      "outputs": [
        {
          "output_type": "stream",
          "name": "stdout",
          "text": [
            "True\n"
          ]
        }
      ]
    },
    {
      "cell_type": "markdown",
      "source": [
        "To print even number from list\n",
        "\n"
      ],
      "metadata": {
        "id": "JhZTsYPP4jh2"
      }
    },
    {
      "cell_type": "code",
      "source": [
        "def is_even_num(l):\n",
        "    enum = []\n",
        "    for n in l:\n",
        "        if n % 2 == 0:\n",
        "            enum.append(n)\n",
        "    return enum\n",
        "print(is_even_num([1, 2, 3, 4, 5, 6, 7, 8, 9]))"
      ],
      "metadata": {
        "colab": {
          "base_uri": "https://localhost:8080/"
        },
        "id": "jwAQodeX4j1N",
        "outputId": "0c126b2a-474c-4da8-9db4-4862d09e1fa2"
      },
      "execution_count": 19,
      "outputs": [
        {
          "output_type": "stream",
          "name": "stdout",
          "text": [
            "[2, 4, 6, 8]\n"
          ]
        }
      ]
    },
    {
      "cell_type": "markdown",
      "source": [
        "Check Palindrome\n",
        "\n"
      ],
      "metadata": {
        "id": "7xI8fEieTT1V"
      }
    },
    {
      "cell_type": "code",
      "source": [
        "def palin():\n",
        " n = input(\"Enter the word and see if it is palindrome: \") #check palindrome\n",
        " if n == n[::-1]:\n",
        "    print(\"This word is palindrome\")\n",
        " else:\n",
        "    print(\"This word is not palindrome\")\n",
        "palin()"
      ],
      "metadata": {
        "colab": {
          "base_uri": "https://localhost:8080/"
        },
        "id": "PYYSby7ATUGq",
        "outputId": "95398b73-2300-48ca-b75e-49010c3dbfb8"
      },
      "execution_count": 21,
      "outputs": [
        {
          "output_type": "stream",
          "name": "stdout",
          "text": [
            "Enter the word and see if it is palindrome: racecar\n",
            "This word is palindrome\n"
          ]
        }
      ]
    }
  ]
}