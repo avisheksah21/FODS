{
  "nbformat": 4,
  "nbformat_minor": 0,
  "metadata": {
    "colab": {
      "name": "Class_Test FODS_28jan.ipynb",
      "provenance": []
    },
    "kernelspec": {
      "name": "python3",
      "display_name": "Python 3"
    },
    "language_info": {
      "name": "python"
    }
  },
  "cells": [
    {
      "cell_type": "code",
      "execution_count": 8,
      "metadata": {
        "colab": {
          "base_uri": "https://localhost:8080/"
        },
        "id": "VkIR4siVf9bq",
        "outputId": "bdf3dba3-0285-467c-89b2-6438aa245bb2"
      },
      "outputs": [
        {
          "output_type": "stream",
          "name": "stdout",
          "text": [
            "Total fare of the bus is: 3300.0\n"
          ]
        }
      ],
      "source": [
        "#Q.1\n",
        "\n",
        "class Vehicle:\n",
        "    def __init__(self, name, capacity):\n",
        "        self.name = name\n",
        "        self.capacity = capacity\n",
        "\n",
        "    def fare(self):\n",
        "        return self.capacity * 100\n",
        "\n",
        "class Bus(Vehicle):\n",
        "    def fare(self):\n",
        "        amount = self.capacity * 100 \n",
        "        amount += amount * 10 / 100\n",
        "        return amount\n",
        "\n",
        "School_bus = Bus(\"School Benz\", 30)\n",
        "print(\"Total fare of the bus is:\", School_bus.fare())"
      ]
    },
    {
      "cell_type": "code",
      "source": [
        "#Q.2\n",
        "\n",
        "import csv\n",
        "with open('hydropower-projects.csv', newline='') as f:\n",
        "   reader = csv.reader(f)\n",
        "   data_list = list(reader)\n",
        "print(data_list)\n"
      ],
      "metadata": {
        "id": "KmAi8s12rTJ-"
      },
      "execution_count": null,
      "outputs": []
    },
    {
      "cell_type": "code",
      "source": [
        "#Q.3\n",
        "\n",
        "import pandas as pd\n",
        "mycsv1=pd.read_csv(r\"https://raw.githubusercontent.com/CSSEGISandData/COVID-19/master/csse_covid_19_data/csse_covid_19_daily_reports/03-17-2020.csv\")\n",
        "print(mycsv1.head(4))\n",
        "print()\n",
        "print(\"Dataset information:\")\n",
        "print(mycsv1.info())\n",
        "print(\"Missing data information:\")\n",
        "print(mycsv1.isna().sum())\n"
      ],
      "metadata": {
        "colab": {
          "base_uri": "https://localhost:8080/"
        },
        "id": "8SdXzP-3iGpE",
        "outputId": "7b723d71-273a-4a52-b1ea-4f5ae05d346d"
      },
      "execution_count": 11,
      "outputs": [
        {
          "output_type": "stream",
          "name": "stdout",
          "text": [
            "  Province/State Country/Region  ... Latitude  Longitude\n",
            "0          Hubei          China  ...  30.9756   112.2707\n",
            "1            NaN          Italy  ...  41.8719    12.5674\n",
            "2            NaN           Iran  ...  32.4279    53.6880\n",
            "3            NaN          Spain  ...  40.4637    -3.7492\n",
            "\n",
            "[4 rows x 8 columns]\n",
            "\n",
            "Dataset information:\n",
            "<class 'pandas.core.frame.DataFrame'>\n",
            "RangeIndex: 298 entries, 0 to 297\n",
            "Data columns (total 8 columns):\n",
            " #   Column          Non-Null Count  Dtype  \n",
            "---  ------          --------------  -----  \n",
            " 0   Province/State  145 non-null    object \n",
            " 1   Country/Region  298 non-null    object \n",
            " 2   Last Update     298 non-null    object \n",
            " 3   Confirmed       298 non-null    int64  \n",
            " 4   Deaths          298 non-null    int64  \n",
            " 5   Recovered       298 non-null    int64  \n",
            " 6   Latitude        296 non-null    float64\n",
            " 7   Longitude       296 non-null    float64\n",
            "dtypes: float64(2), int64(3), object(3)\n",
            "memory usage: 18.8+ KB\n",
            "None\n",
            "Missing data information:\n",
            "Province/State    153\n",
            "Country/Region      0\n",
            "Last Update         0\n",
            "Confirmed           0\n",
            "Deaths              0\n",
            "Recovered           0\n",
            "Latitude            2\n",
            "Longitude           2\n",
            "dtype: int64\n"
          ]
        }
      ]
    },
    {
      "cell_type": "code",
      "source": [
        "#Q.4\n",
        "\n",
        "import numpy as np\n",
        "x = np.array([5, 8])\n",
        "y = np.array([4, 8])\n",
        "print(\"Original numbers:\")\n",
        "print(x)\n",
        "print(y)\n",
        "print(\"Comparison- greater:\")\n",
        "print(np.greater(x, y))\n",
        "print(\"Comparison- greater_equal:\")\n",
        "print(np.greater_equal(x, y))\n",
        "print(\"Comparison- less:\")\n",
        "print(np.less(x, y))\n",
        "print(\"Comparison- less_equal:\")\n",
        "print(np.less_equal(x, y))"
      ],
      "metadata": {
        "colab": {
          "base_uri": "https://localhost:8080/"
        },
        "id": "GgM_BCXJiIsa",
        "outputId": "440ec4e0-0b7b-43c1-8a52-d9381244279d"
      },
      "execution_count": 3,
      "outputs": [
        {
          "output_type": "stream",
          "name": "stdout",
          "text": [
            "Original numbers:\n",
            "[5 8]\n",
            "[4 8]\n",
            "Comparison- greater:\n",
            "[ True False]\n",
            "Comparison- greater_equal:\n",
            "[ True  True]\n",
            "Comparison- less:\n",
            "[False False]\n",
            "Comparison- less_equal:\n",
            "[False  True]\n"
          ]
        }
      ]
    },
    {
      "cell_type": "code",
      "source": [
        "#Q.5 \n",
        "\n",
        "from matplotlib import pyplot as plt  \n",
        "x = range(1,100)\n",
        "y = range(1,100)\n",
        "plt.plot(x,y)\n",
        "plt.title(\"Drawing a line.\")  \n",
        "plt.ylabel('y axis')  \n",
        "plt.xlabel('x axis')  \n",
        "plt.show()"
      ],
      "metadata": {
        "colab": {
          "base_uri": "https://localhost:8080/",
          "height": 295
        },
        "id": "yQPcqf3ziXvS",
        "outputId": "06889ee2-abb9-4e06-97f9-b4ef6de7bdda"
      },
      "execution_count": 4,
      "outputs": [
        {
          "output_type": "display_data",
          "data": {
            "image/png": "[encoded data removed]",
            "text/plain": [
              "<Figure size 432x288 with 1 Axes>"
            ]
          },
          "metadata": {
            "needs_background": "light"
          }
        }
      ]
    }
  ]
}