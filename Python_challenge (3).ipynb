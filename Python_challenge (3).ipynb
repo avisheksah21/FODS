{
  "nbformat": 4,
  "nbformat_minor": 0,
  "metadata": {
    "colab": {
      "name": "Python challenge.ipynb",
      "provenance": []
    },
    "kernelspec": {
      "name": "python3",
      "display_name": "Python 3"
    },
    "language_info": {
      "name": "python"
    }
  },
  "cells": [
    {
      "cell_type": "markdown",
      "source": [
        "A robot moves in a plane starting from the\n",
        "original point (0,0). The robot can move toward UP, DOWN, LEFT and RIGHT with a given step. The trace of robot movement is shown as the following:"
      ],
      "metadata": {
        "id": "W2aD7wHK-3TQ"
      }
    },
    {
      "cell_type": "code",
      "execution_count": null,
      "metadata": {
        "colab": {
          "base_uri": "https://localhost:8080/"
        },
        "id": "_hQNyV1j-tMr",
        "outputId": "63d2ee78-8773-4c7e-ba11-070bf397a88b"
      },
      "outputs": [
        {
          "output_type": "stream",
          "name": "stdout",
          "text": [
            "Enter Up: 5\n",
            "Enter Down: 3\n",
            "Enter Left: 3\n",
            "Enter Right: 2\n",
            "The distance is  2.23606797749979\n"
          ]
        }
      ],
      "source": [
        "a=int(input(\"Enter Up: \"))\n",
        "b=int(input(\"Enter Down: \"))\n",
        "c=int(input(\"Enter Left: \"))\n",
        "d=int(input(\"Enter Right: \"))\n",
        "x=a-b\n",
        "if x<0:\n",
        "  x=-1\n",
        "y=c-d\n",
        "if y<0:\n",
        "  y=-1\n",
        "c=(x**2 +y**2)**0.5\n",
        "print(\"The distance is \", c )"
      ]
    },
    {
      "cell_type": "markdown",
      "source": [
        "With a given list\n",
        "[12,24,35,24,88,120,155,88,120,155], write a program to print this list after\n",
        "removing all duplicate values with original order reserved."
      ],
      "metadata": {
        "id": "82Im652g_IvY"
      }
    },
    {
      "cell_type": "code",
      "source": [
        "def Remove(duplicate):\n",
        "    final_list = []\n",
        "    for num in duplicate:\n",
        "        if num not in final_list:\n",
        "            final_list.append(num)\n",
        "            print(final_list)\n",
        "    final_list.reverse()\n",
        "    return final_list\n",
        "duplicate = [12,24,35,24,88,120,155,88,120,155]\n",
        "print(Remove(duplicate))"
      ],
      "metadata": {
        "colab": {
          "base_uri": "https://localhost:8080/"
        },
        "id": "6i_duyUp-1N8",
        "outputId": "b3dbbc3e-56e5-47b0-9ef5-af7e4857a5db"
      },
      "execution_count": 19,
      "outputs": [
        {
          "output_type": "stream",
          "name": "stdout",
          "text": [
            "[12]\n",
            "[12, 24]\n",
            "[12, 24, 35]\n",
            "[12, 24, 35, 88]\n",
            "[12, 24, 35, 88, 120]\n",
            "[12, 24, 35, 88, 120, 155]\n",
            "[155, 120, 88, 35, 24, 12]\n"
          ]
        }
      ]
    },
    {
      "cell_type": "markdown",
      "source": [
        "Please write a program to generate all\n",
        "sentences where the subject is in [\"I\", \"You\"] and the verb is in\n",
        "[\"Play\", \"Love\"] and the object is in\n",
        "[\"Hockey\", \"Football\"].\n"
      ],
      "metadata": {
        "id": "BmUW5ISfAcg8"
      }
    },
    {
      "cell_type": "code",
      "source": [
        "def generate_sentences(subjects,verbs,objects):\n",
        "\tlist=[]\n",
        "\tfor i in subjects:\n",
        "\t    for j in verbs:\n",
        "\t        for k in objects:\n",
        "\t            list.append(i+\" \"+j+\" \"+k)\n",
        "\treturn list \n",
        "\t           \n",
        "subjects=[\"I\",\"You\"]\n",
        "verbs=[\"love\", \"play\"]\n",
        "objects=[\"Hockey\",\"Football\"]\n",
        "print(generate_sentences(subjects,verbs,objects))"
      ],
      "metadata": {
        "colab": {
          "base_uri": "https://localhost:8080/"
        },
        "id": "J3hie-t2_IWG",
        "outputId": "f1176c17-2756-485c-cb23-c37bad879aa5"
      },
      "execution_count": null,
      "outputs": [
        {
          "output_type": "stream",
          "name": "stdout",
          "text": [
            "['I love Hockey', 'I love Football', 'I play Hockey', 'I play Football', 'You love Hockey', 'You love Football', 'You play Hockey', 'You play Football']\n"
          ]
        }
      ]
    },
    {
      "cell_type": "markdown",
      "source": [
        ""
      ],
      "metadata": {
        "id": "nRQgaExELKZl"
      }
    },
    {
      "cell_type": "code",
      "source": [
        "\n",
        "a=0\n",
        "b=0\n",
        "c=0\n",
        "d=0\n",
        "x=input(\"Enter a password \")\n",
        "if len(x)<6 or len(x)>12:\n",
        "  print(\"Enter the password of Lenghth [6-12] \")\n",
        "for i in x:\n",
        "  if i.isupper():\n",
        "    a+=1\n",
        "  elif i.islower():\n",
        "    b+=1\n",
        "  elif i in '\" $@#\"':\n",
        "    c+=1\n",
        "  elif i.isdigit():\n",
        "    d+=1\n",
        "if a>=1 and b>=1 and c>=1 and d>=1 and a+b+c+d==len(x):\n",
        "   print(\"Password created sucessfully. \")\n",
        "   print(\"Please enter your password to continue. \")\n",
        "   n=input()\n",
        "   if n==x:\n",
        "     print(\"The entered password is correct.\")\n",
        "   else:\n",
        "      print(\"Incorrect password. \")\n",
        "else:\n",
        "    print(\"NOT VALID PASSOWORD\")"
      ],
      "metadata": {
        "colab": {
          "base_uri": "https://localhost:8080/"
        },
        "id": "xEU8WlYiLKo8",
        "outputId": "b7b95b8a-8fa9-4f3f-f5b3-b201e03bed05"
      },
      "execution_count": 23,
      "outputs": [
        {
          "output_type": "stream",
          "name": "stdout",
          "text": [
            "Enter a password 2323Kla.dif\n",
            "NOT VALID PASSOWORD\n"
          ]
        }
      ]
    }
  ]
}