{
  "nbformat": 4,
  "nbformat_minor": 0,
  "metadata": {
    "colab": {
      "name": "Asign2.ipynb",
      "provenance": []
    },
    "kernelspec": {
      "name": "python3",
      "display_name": "Python 3"
    },
    "language_info": {
      "name": "python"
    }
  },
  "cells": [
    {
      "cell_type": "markdown",
      "source": [
        "Write a Python function to find the Max of three numbers"
      ],
      "metadata": {
        "id": "50ciGS7jiVXT"
      }
    },
    {
      "cell_type": "code",
      "execution_count": 4,
      "metadata": {
        "colab": {
          "base_uri": "https://localhost:8080/"
        },
        "id": "Vd4hz_uIiNAR",
        "outputId": "328f8901-7df8-407e-8fe0-e00de1b6aa1f"
      },
      "outputs": [
        {
          "output_type": "stream",
          "name": "stdout",
          "text": [
            "Enter first number: 5\n",
            "Enter second number: 2\n",
            "Enter Third number: 4\n",
            "Largest number among  the three is 5\n"
          ]
        }
      ],
      "source": [
        "def maxxs():\n",
        " n1=int(input(\"Enter first number: \"));\n",
        "\n",
        " n2=int(input(\"Enter second number: \"));\n",
        "\n",
        " n3=int(input(\"Enter Third number: \"));\n",
        " if(n1>=n2) and (n1>=n3):\n",
        "\n",
        "        l=n1\n",
        "\n",
        " elif(n2>=n1) and (n2>=n3):\n",
        "\n",
        "         l=n2\n",
        " else:\n",
        "\n",
        "         l=n3\n",
        "\n",
        " print(\"Largest number among  the three is\",l)\n",
        "maxxs()\n",
        "\n"
      ]
    },
    {
      "cell_type": "markdown",
      "source": [
        "Write a Python function to sum all the numbers in a list"
      ],
      "metadata": {
        "id": "uPBrH3f5irci"
      }
    },
    {
      "cell_type": "code",
      "source": [
        "list1 = [11, 5, 17, 18, 23]\n",
        "a=sum(list1)\n",
        "print(a)"
      ],
      "metadata": {
        "colab": {
          "base_uri": "https://localhost:8080/"
        },
        "id": "GyEJ8B6aiukh",
        "outputId": "1aef389b-7f75-4a0b-cfeb-7110b14b0bc4"
      },
      "execution_count": 5,
      "outputs": [
        {
          "output_type": "stream",
          "name": "stdout",
          "text": [
            "74\n"
          ]
        }
      ]
    },
    {
      "cell_type": "markdown",
      "source": [
        " Write a Python function to multiply all the numbers in a list"
      ],
      "metadata": {
        "id": "IoGmMyloi_oC"
      }
    },
    {
      "cell_type": "code",
      "source": [
        "def mult():\n",
        " list1 = [11, 5, 17, 18, 23]\n",
        " for i in list1:\n",
        "  a=i*i+1\n",
        "  i+=i\n",
        " print(a)\n",
        "mult()"
      ],
      "metadata": {
        "colab": {
          "base_uri": "https://localhost:8080/"
        },
        "id": "XwhSVgnVjYfI",
        "outputId": "5c93d8c7-b7b4-4bae-8f28-2e1ba0343ae6"
      },
      "execution_count": 7,
      "outputs": [
        {
          "output_type": "stream",
          "name": "stdout",
          "text": [
            "530\n"
          ]
        }
      ]
    },
    {
      "cell_type": "markdown",
      "source": [
        "Write a Python program to reverse a string"
      ],
      "metadata": {
        "id": "tmZK3Ptsjk1y"
      }
    },
    {
      "cell_type": "code",
      "source": [
        "txt = \"Diwon\"[::-1]\n",
        "print(txt)"
      ],
      "metadata": {
        "colab": {
          "base_uri": "https://localhost:8080/"
        },
        "id": "Ce0_3b6CjkkY",
        "outputId": "d8fb6509-48e5-4d8f-864a-432c1984b72a"
      },
      "execution_count": 8,
      "outputs": [
        {
          "output_type": "stream",
          "name": "stdout",
          "text": [
            "nowiD\n"
          ]
        }
      ]
    },
    {
      "cell_type": "markdown",
      "source": [
        "Factorial"
      ],
      "metadata": {
        "id": "KLpr7pa6j66w"
      }
    },
    {
      "cell_type": "code",
      "source": [
        "def fact():\n",
        " n=int(input(\"Input a number to compute the factiorial : \"))\n",
        " if n == 0:\n",
        "  print(\"1\")\n",
        " else:\n",
        "  a=n*(n-1)\n",
        " print(a)\n",
        "fact()"
      ],
      "metadata": {
        "colab": {
          "base_uri": "https://localhost:8080/"
        },
        "id": "9hNahFYWkGX3",
        "outputId": "2a62a50d-bd19-439b-9035-fa9b7f3d4cce"
      },
      "execution_count": 13,
      "outputs": [
        {
          "output_type": "stream",
          "name": "stdout",
          "text": [
            "Input a number to compute the factiorial : 4\n",
            "12\n"
          ]
        }
      ]
    },
    {
      "cell_type": "markdown",
      "source": [
        "Upper and Lower Text"
      ],
      "metadata": {
        "id": "FsZLmy-IkulW"
      }
    },
    {
      "cell_type": "code",
      "source": [
        "def up_low(string):\n",
        "  uppers = 0\n",
        "  lowers = 0\n",
        "  for char in string:\n",
        "    if char.islower():\n",
        "      lowers += 1\n",
        "    elif char.isupper():\n",
        "      uppers +=1\n",
        "  return(uppers, lowers)\n",
        "\n",
        "print(up_low('The Quick Brown Fox'))"
      ],
      "metadata": {
        "colab": {
          "base_uri": "https://localhost:8080/"
        },
        "id": "WnVQWfILkxfG",
        "outputId": "a13e3eb5-3b6a-40a2-b9c3-20608fa89ee7"
      },
      "execution_count": 15,
      "outputs": [
        {
          "output_type": "stream",
          "name": "stdout",
          "text": [
            "(4, 12)\n"
          ]
        }
      ]
    },
    {
      "cell_type": "markdown",
      "source": [
        "New list with no duplicate value"
      ],
      "metadata": {
        "id": "pbkrFIQdk9Be"
      }
    },
    {
      "cell_type": "code",
      "source": [
        "def org:\n",
        "  my_list = [10, 20, 30, 40, 20, 50, 60, 40]\n",
        "  print(\"Original List : \",my_list)\n",
        "  my_set = set(my_list)\n",
        "  my_new_list = list(my_set)\n",
        "  print(\"List of unique numbers : \",my_new_list)\n",
        "org()"
      ],
      "metadata": {
        "colab": {
          "base_uri": "https://localhost:8080/"
        },
        "id": "yAFNJT86lVR-",
        "outputId": "01beb2da-58b5-43f2-a2db-724a19a7570a"
      },
      "execution_count": 16,
      "outputs": [
        {
          "output_type": "stream",
          "name": "stdout",
          "text": [
            "Original List :  [10, 20, 30, 40, 20, 50, 60, 40]\n",
            "List of unique numbers :  [40, 10, 50, 20, 60, 30]\n"
          ]
        }
      ]
    },
    {
      "cell_type": "markdown",
      "source": [
        "Prime or not"
      ],
      "metadata": {
        "id": "OqLsjm3IlmPN"
      }
    },
    {
      "cell_type": "code",
      "source": [
        "def test_prime(n):\n",
        "    if (n==1):\n",
        "        return False\n",
        "    elif (n==2):\n",
        "        return True;\n",
        "    else:\n",
        "        for x in range(2,n):\n",
        "            if(n % x==0):\n",
        "                return False\n",
        "        return True             \n",
        "print(test_prime(9))"
      ],
      "metadata": {
        "id": "p6zDo7azlu1O"
      },
      "execution_count": null,
      "outputs": []
    },
    {
      "cell_type": "markdown",
      "source": [
        "To print even number from list"
      ],
      "metadata": {
        "id": "gCxHiBLZmKSd"
      }
    },
    {
      "cell_type": "code",
      "source": [
        "def is_even_num(l):\n",
        "    enum = []\n",
        "    for n in l:\n",
        "        if n % 2 == 0:\n",
        "            enum.append(n)\n",
        "    return enum\n",
        "print(is_even_num([1, 2, 3, 4, 5, 6, 7, 8, 9]))"
      ],
      "metadata": {
        "id": "V7HtFAQKmQoj"
      },
      "execution_count": null,
      "outputs": []
    },
    {
      "cell_type": "markdown",
      "source": [
        "Check Palindrome"
      ],
      "metadata": {
        "id": "wecHErmBmeN1"
      }
    },
    {
      "cell_type": "code",
      "source": [
        "def palin():\n",
        " n = input(\"Enter the word and see if it is palindrome: \")\n",
        " if n == n[::-1]:\n",
        "    print(\"This word is palindrome\")\n",
        " else:\n",
        "    print(\"This word is not palindrome\")\n",
        "palin():"
      ],
      "metadata": {
        "id": "ZGCPLkLKmfsl"
      },
      "execution_count": null,
      "outputs": []
    }
  ]
}
